{
 "cells": [
  {
   "cell_type": "markdown",
   "metadata": {},
   "source": [
    "# Exploratory Data Analysis (EDA) on Wage dataset\n"
   ]
  },
  {
   "cell_type": "code",
   "execution_count": 1,
   "metadata": {},
   "outputs": [],
   "source": [
    "# different libraries have been imported for using \n",
    "#different packages to plot,load etc\n",
    "import pandas as pd\n",
    "import numpy as np\n",
    "import statistics\n",
    "import matplotlib.pyplot as plt\n",
    "import seaborn as sns\n",
    "import statsmodels.api as st\n",
    "import scipy.stats\n",
    "from sklearn.preprocessing import LabelEncoder\n",
    "from scipy import stats"
   ]
  },
  {
   "cell_type": "code",
   "execution_count": 2,
   "metadata": {},
   "outputs": [
    {
     "data": {
      "text/html": [
       "\n",
       "    <div class=\"bk-root\">\n",
       "        <a href=\"https://bokeh.org\" target=\"_blank\" class=\"bk-logo bk-logo-small bk-logo-notebook\"></a>\n",
       "        <span id=\"1001\">Loading BokehJS ...</span>\n",
       "    </div>"
      ]
     },
     "metadata": {},
     "output_type": "display_data"
    },
    {
     "data": {
      "application/javascript": [
       "\n",
       "(function(root) {\n",
       "  function now() {\n",
       "    return new Date();\n",
       "  }\n",
       "\n",
       "  var force = true;\n",
       "\n",
       "  if (typeof root._bokeh_onload_callbacks === \"undefined\" || force === true) {\n",
       "    root._bokeh_onload_callbacks = [];\n",
       "    root._bokeh_is_loading = undefined;\n",
       "  }\n",
       "\n",
       "  var JS_MIME_TYPE = 'application/javascript';\n",
       "  var HTML_MIME_TYPE = 'text/html';\n",
       "  var EXEC_MIME_TYPE = 'application/vnd.bokehjs_exec.v0+json';\n",
       "  var CLASS_NAME = 'output_bokeh rendered_html';\n",
       "\n",
       "  /**\n",
       "   * Render data to the DOM node\n",
       "   */\n",
       "  function render(props, node) {\n",
       "    var script = document.createElement(\"script\");\n",
       "    node.appendChild(script);\n",
       "  }\n",
       "\n",
       "  /**\n",
       "   * Handle when an output is cleared or removed\n",
       "   */\n",
       "  function handleClearOutput(event, handle) {\n",
       "    var cell = handle.cell;\n",
       "\n",
       "    var id = cell.output_area._bokeh_element_id;\n",
       "    var server_id = cell.output_area._bokeh_server_id;\n",
       "    // Clean up Bokeh references\n",
       "    if (id != null && id in Bokeh.index) {\n",
       "      Bokeh.index[id].model.document.clear();\n",
       "      delete Bokeh.index[id];\n",
       "    }\n",
       "\n",
       "    if (server_id !== undefined) {\n",
       "      // Clean up Bokeh references\n",
       "      var cmd = \"from bokeh.io.state import curstate; print(curstate().uuid_to_server['\" + server_id + \"'].get_sessions()[0].document.roots[0]._id)\";\n",
       "      cell.notebook.kernel.execute(cmd, {\n",
       "        iopub: {\n",
       "          output: function(msg) {\n",
       "            var id = msg.content.text.trim();\n",
       "            if (id in Bokeh.index) {\n",
       "              Bokeh.index[id].model.document.clear();\n",
       "              delete Bokeh.index[id];\n",
       "            }\n",
       "          }\n",
       "        }\n",
       "      });\n",
       "      // Destroy server and session\n",
       "      var cmd = \"import bokeh.io.notebook as ion; ion.destroy_server('\" + server_id + \"')\";\n",
       "      cell.notebook.kernel.execute(cmd);\n",
       "    }\n",
       "  }\n",
       "\n",
       "  /**\n",
       "   * Handle when a new output is added\n",
       "   */\n",
       "  function handleAddOutput(event, handle) {\n",
       "    var output_area = handle.output_area;\n",
       "    var output = handle.output;\n",
       "\n",
       "    // limit handleAddOutput to display_data with EXEC_MIME_TYPE content only\n",
       "    if ((output.output_type != \"display_data\") || (!output.data.hasOwnProperty(EXEC_MIME_TYPE))) {\n",
       "      return\n",
       "    }\n",
       "\n",
       "    var toinsert = output_area.element.find(\".\" + CLASS_NAME.split(' ')[0]);\n",
       "\n",
       "    if (output.metadata[EXEC_MIME_TYPE][\"id\"] !== undefined) {\n",
       "      toinsert[toinsert.length - 1].firstChild.textContent = output.data[JS_MIME_TYPE];\n",
       "      // store reference to embed id on output_area\n",
       "      output_area._bokeh_element_id = output.metadata[EXEC_MIME_TYPE][\"id\"];\n",
       "    }\n",
       "    if (output.metadata[EXEC_MIME_TYPE][\"server_id\"] !== undefined) {\n",
       "      var bk_div = document.createElement(\"div\");\n",
       "      bk_div.innerHTML = output.data[HTML_MIME_TYPE];\n",
       "      var script_attrs = bk_div.children[0].attributes;\n",
       "      for (var i = 0; i < script_attrs.length; i++) {\n",
       "        toinsert[toinsert.length - 1].firstChild.setAttribute(script_attrs[i].name, script_attrs[i].value);\n",
       "        toinsert[toinsert.length - 1].firstChild.textContent = bk_div.children[0].textContent\n",
       "      }\n",
       "      // store reference to server id on output_area\n",
       "      output_area._bokeh_server_id = output.metadata[EXEC_MIME_TYPE][\"server_id\"];\n",
       "    }\n",
       "  }\n",
       "\n",
       "  function register_renderer(events, OutputArea) {\n",
       "\n",
       "    function append_mime(data, metadata, element) {\n",
       "      // create a DOM node to render to\n",
       "      var toinsert = this.create_output_subarea(\n",
       "        metadata,\n",
       "        CLASS_NAME,\n",
       "        EXEC_MIME_TYPE\n",
       "      );\n",
       "      this.keyboard_manager.register_events(toinsert);\n",
       "      // Render to node\n",
       "      var props = {data: data, metadata: metadata[EXEC_MIME_TYPE]};\n",
       "      render(props, toinsert[toinsert.length - 1]);\n",
       "      element.append(toinsert);\n",
       "      return toinsert\n",
       "    }\n",
       "\n",
       "    /* Handle when an output is cleared or removed */\n",
       "    events.on('clear_output.CodeCell', handleClearOutput);\n",
       "    events.on('delete.Cell', handleClearOutput);\n",
       "\n",
       "    /* Handle when a new output is added */\n",
       "    events.on('output_added.OutputArea', handleAddOutput);\n",
       "\n",
       "    /**\n",
       "     * Register the mime type and append_mime function with output_area\n",
       "     */\n",
       "    OutputArea.prototype.register_mime_type(EXEC_MIME_TYPE, append_mime, {\n",
       "      /* Is output safe? */\n",
       "      safe: true,\n",
       "      /* Index of renderer in `output_area.display_order` */\n",
       "      index: 0\n",
       "    });\n",
       "  }\n",
       "\n",
       "  // register the mime type if in Jupyter Notebook environment and previously unregistered\n",
       "  if (root.Jupyter !== undefined) {\n",
       "    var events = require('base/js/events');\n",
       "    var OutputArea = require('notebook/js/outputarea').OutputArea;\n",
       "\n",
       "    if (OutputArea.prototype.mime_types().indexOf(EXEC_MIME_TYPE) == -1) {\n",
       "      register_renderer(events, OutputArea);\n",
       "    }\n",
       "  }\n",
       "\n",
       "  \n",
       "  if (typeof (root._bokeh_timeout) === \"undefined\" || force === true) {\n",
       "    root._bokeh_timeout = Date.now() + 5000;\n",
       "    root._bokeh_failed_load = false;\n",
       "  }\n",
       "\n",
       "  var NB_LOAD_WARNING = {'data': {'text/html':\n",
       "     \"<div style='background-color: #fdd'>\\n\"+\n",
       "     \"<p>\\n\"+\n",
       "     \"BokehJS does not appear to have successfully loaded. If loading BokehJS from CDN, this \\n\"+\n",
       "     \"may be due to a slow or bad network connection. Possible fixes:\\n\"+\n",
       "     \"</p>\\n\"+\n",
       "     \"<ul>\\n\"+\n",
       "     \"<li>re-rerun `output_notebook()` to attempt to load from CDN again, or</li>\\n\"+\n",
       "     \"<li>use INLINE resources instead, as so:</li>\\n\"+\n",
       "     \"</ul>\\n\"+\n",
       "     \"<code>\\n\"+\n",
       "     \"from bokeh.resources import INLINE\\n\"+\n",
       "     \"output_notebook(resources=INLINE)\\n\"+\n",
       "     \"</code>\\n\"+\n",
       "     \"</div>\"}};\n",
       "\n",
       "  function display_loaded() {\n",
       "    var el = document.getElementById(\"1001\");\n",
       "    if (el != null) {\n",
       "      el.textContent = \"BokehJS is loading...\";\n",
       "    }\n",
       "    if (root.Bokeh !== undefined) {\n",
       "      if (el != null) {\n",
       "        el.textContent = \"BokehJS \" + root.Bokeh.version + \" successfully loaded.\";\n",
       "      }\n",
       "    } else if (Date.now() < root._bokeh_timeout) {\n",
       "      setTimeout(display_loaded, 100)\n",
       "    }\n",
       "  }\n",
       "\n",
       "\n",
       "  function run_callbacks() {\n",
       "    try {\n",
       "      root._bokeh_onload_callbacks.forEach(function(callback) {\n",
       "        if (callback != null)\n",
       "          callback();\n",
       "      });\n",
       "    } finally {\n",
       "      delete root._bokeh_onload_callbacks\n",
       "    }\n",
       "    console.debug(\"Bokeh: all callbacks have finished\");\n",
       "  }\n",
       "\n",
       "  function load_libs(css_urls, js_urls, callback) {\n",
       "    if (css_urls == null) css_urls = [];\n",
       "    if (js_urls == null) js_urls = [];\n",
       "\n",
       "    root._bokeh_onload_callbacks.push(callback);\n",
       "    if (root._bokeh_is_loading > 0) {\n",
       "      console.debug(\"Bokeh: BokehJS is being loaded, scheduling callback at\", now());\n",
       "      return null;\n",
       "    }\n",
       "    if (js_urls == null || js_urls.length === 0) {\n",
       "      run_callbacks();\n",
       "      return null;\n",
       "    }\n",
       "    console.debug(\"Bokeh: BokehJS not loaded, scheduling load and callback at\", now());\n",
       "    root._bokeh_is_loading = css_urls.length + js_urls.length;\n",
       "\n",
       "    function on_load() {\n",
       "      root._bokeh_is_loading--;\n",
       "      if (root._bokeh_is_loading === 0) {\n",
       "        console.debug(\"Bokeh: all BokehJS libraries/stylesheets loaded\");\n",
       "        run_callbacks()\n",
       "      }\n",
       "    }\n",
       "\n",
       "    function on_error() {\n",
       "      console.error(\"failed to load \" + url);\n",
       "    }\n",
       "\n",
       "    for (var i = 0; i < css_urls.length; i++) {\n",
       "      var url = css_urls[i];\n",
       "      const element = document.createElement(\"link\");\n",
       "      element.onload = on_load;\n",
       "      element.onerror = on_error;\n",
       "      element.rel = \"stylesheet\";\n",
       "      element.type = \"text/css\";\n",
       "      element.href = url;\n",
       "      console.debug(\"Bokeh: injecting link tag for BokehJS stylesheet: \", url);\n",
       "      document.body.appendChild(element);\n",
       "    }\n",
       "\n",
       "    const hashes = {\"https://cdn.bokeh.org/bokeh/release/bokeh-2.2.3.min.js\": \"T2yuo9Oe71Cz/I4X9Ac5+gpEa5a8PpJCDlqKYO0CfAuEszu1JrXLl8YugMqYe3sM\", \"https://cdn.bokeh.org/bokeh/release/bokeh-widgets-2.2.3.min.js\": \"98GDGJ0kOMCUMUePhksaQ/GYgB3+NH9h996V88sh3aOiUNX3N+fLXAtry6xctSZ6\", \"https://cdn.bokeh.org/bokeh/release/bokeh-tables-2.2.3.min.js\": \"89bArO+nlbP3sgakeHjCo1JYxYR5wufVgA3IbUvDY+K7w4zyxJqssu7wVnfeKCq8\"};\n",
       "\n",
       "    for (var i = 0; i < js_urls.length; i++) {\n",
       "      var url = js_urls[i];\n",
       "      var element = document.createElement('script');\n",
       "      element.onload = on_load;\n",
       "      element.onerror = on_error;\n",
       "      element.async = false;\n",
       "      element.src = url;\n",
       "      if (url in hashes) {\n",
       "        element.crossOrigin = \"anonymous\";\n",
       "        element.integrity = \"sha384-\" + hashes[url];\n",
       "      }\n",
       "      console.debug(\"Bokeh: injecting script tag for BokehJS library: \", url);\n",
       "      document.head.appendChild(element);\n",
       "    }\n",
       "  };\n",
       "\n",
       "  function inject_raw_css(css) {\n",
       "    const element = document.createElement(\"style\");\n",
       "    element.appendChild(document.createTextNode(css));\n",
       "    document.body.appendChild(element);\n",
       "  }\n",
       "\n",
       "  \n",
       "  var js_urls = [\"https://cdn.bokeh.org/bokeh/release/bokeh-2.2.3.min.js\", \"https://cdn.bokeh.org/bokeh/release/bokeh-widgets-2.2.3.min.js\", \"https://cdn.bokeh.org/bokeh/release/bokeh-tables-2.2.3.min.js\"];\n",
       "  var css_urls = [];\n",
       "  \n",
       "\n",
       "  var inline_js = [\n",
       "    function(Bokeh) {\n",
       "      Bokeh.set_log_level(\"info\");\n",
       "    },\n",
       "    function(Bokeh) {\n",
       "    \n",
       "    \n",
       "    }\n",
       "  ];\n",
       "\n",
       "  function run_inline_js() {\n",
       "    \n",
       "    if (root.Bokeh !== undefined || force === true) {\n",
       "      \n",
       "    for (var i = 0; i < inline_js.length; i++) {\n",
       "      inline_js[i].call(root, root.Bokeh);\n",
       "    }\n",
       "    if (force === true) {\n",
       "        display_loaded();\n",
       "      }} else if (Date.now() < root._bokeh_timeout) {\n",
       "      setTimeout(run_inline_js, 100);\n",
       "    } else if (!root._bokeh_failed_load) {\n",
       "      console.log(\"Bokeh: BokehJS failed to load within specified timeout.\");\n",
       "      root._bokeh_failed_load = true;\n",
       "    } else if (force !== true) {\n",
       "      var cell = $(document.getElementById(\"1001\")).parents('.cell').data().cell;\n",
       "      cell.output_area.append_execute_result(NB_LOAD_WARNING)\n",
       "    }\n",
       "\n",
       "  }\n",
       "\n",
       "  if (root._bokeh_is_loading === 0) {\n",
       "    console.debug(\"Bokeh: BokehJS loaded, going straight to plotting\");\n",
       "    run_inline_js();\n",
       "  } else {\n",
       "    load_libs(css_urls, js_urls, function() {\n",
       "      console.debug(\"Bokeh: BokehJS plotting callback run at\", now());\n",
       "      run_inline_js();\n",
       "    });\n",
       "  }\n",
       "}(window));"
      ],
      "application/vnd.bokehjs_load.v0+json": "\n(function(root) {\n  function now() {\n    return new Date();\n  }\n\n  var force = true;\n\n  if (typeof root._bokeh_onload_callbacks === \"undefined\" || force === true) {\n    root._bokeh_onload_callbacks = [];\n    root._bokeh_is_loading = undefined;\n  }\n\n  \n\n  \n  if (typeof (root._bokeh_timeout) === \"undefined\" || force === true) {\n    root._bokeh_timeout = Date.now() + 5000;\n    root._bokeh_failed_load = false;\n  }\n\n  var NB_LOAD_WARNING = {'data': {'text/html':\n     \"<div style='background-color: #fdd'>\\n\"+\n     \"<p>\\n\"+\n     \"BokehJS does not appear to have successfully loaded. If loading BokehJS from CDN, this \\n\"+\n     \"may be due to a slow or bad network connection. Possible fixes:\\n\"+\n     \"</p>\\n\"+\n     \"<ul>\\n\"+\n     \"<li>re-rerun `output_notebook()` to attempt to load from CDN again, or</li>\\n\"+\n     \"<li>use INLINE resources instead, as so:</li>\\n\"+\n     \"</ul>\\n\"+\n     \"<code>\\n\"+\n     \"from bokeh.resources import INLINE\\n\"+\n     \"output_notebook(resources=INLINE)\\n\"+\n     \"</code>\\n\"+\n     \"</div>\"}};\n\n  function display_loaded() {\n    var el = document.getElementById(\"1001\");\n    if (el != null) {\n      el.textContent = \"BokehJS is loading...\";\n    }\n    if (root.Bokeh !== undefined) {\n      if (el != null) {\n        el.textContent = \"BokehJS \" + root.Bokeh.version + \" successfully loaded.\";\n      }\n    } else if (Date.now() < root._bokeh_timeout) {\n      setTimeout(display_loaded, 100)\n    }\n  }\n\n\n  function run_callbacks() {\n    try {\n      root._bokeh_onload_callbacks.forEach(function(callback) {\n        if (callback != null)\n          callback();\n      });\n    } finally {\n      delete root._bokeh_onload_callbacks\n    }\n    console.debug(\"Bokeh: all callbacks have finished\");\n  }\n\n  function load_libs(css_urls, js_urls, callback) {\n    if (css_urls == null) css_urls = [];\n    if (js_urls == null) js_urls = [];\n\n    root._bokeh_onload_callbacks.push(callback);\n    if (root._bokeh_is_loading > 0) {\n      console.debug(\"Bokeh: BokehJS is being loaded, scheduling callback at\", now());\n      return null;\n    }\n    if (js_urls == null || js_urls.length === 0) {\n      run_callbacks();\n      return null;\n    }\n    console.debug(\"Bokeh: BokehJS not loaded, scheduling load and callback at\", now());\n    root._bokeh_is_loading = css_urls.length + js_urls.length;\n\n    function on_load() {\n      root._bokeh_is_loading--;\n      if (root._bokeh_is_loading === 0) {\n        console.debug(\"Bokeh: all BokehJS libraries/stylesheets loaded\");\n        run_callbacks()\n      }\n    }\n\n    function on_error() {\n      console.error(\"failed to load \" + url);\n    }\n\n    for (var i = 0; i < css_urls.length; i++) {\n      var url = css_urls[i];\n      const element = document.createElement(\"link\");\n      element.onload = on_load;\n      element.onerror = on_error;\n      element.rel = \"stylesheet\";\n      element.type = \"text/css\";\n      element.href = url;\n      console.debug(\"Bokeh: injecting link tag for BokehJS stylesheet: \", url);\n      document.body.appendChild(element);\n    }\n\n    const hashes = {\"https://cdn.bokeh.org/bokeh/release/bokeh-2.2.3.min.js\": \"T2yuo9Oe71Cz/I4X9Ac5+gpEa5a8PpJCDlqKYO0CfAuEszu1JrXLl8YugMqYe3sM\", \"https://cdn.bokeh.org/bokeh/release/bokeh-widgets-2.2.3.min.js\": \"98GDGJ0kOMCUMUePhksaQ/GYgB3+NH9h996V88sh3aOiUNX3N+fLXAtry6xctSZ6\", \"https://cdn.bokeh.org/bokeh/release/bokeh-tables-2.2.3.min.js\": \"89bArO+nlbP3sgakeHjCo1JYxYR5wufVgA3IbUvDY+K7w4zyxJqssu7wVnfeKCq8\"};\n\n    for (var i = 0; i < js_urls.length; i++) {\n      var url = js_urls[i];\n      var element = document.createElement('script');\n      element.onload = on_load;\n      element.onerror = on_error;\n      element.async = false;\n      element.src = url;\n      if (url in hashes) {\n        element.crossOrigin = \"anonymous\";\n        element.integrity = \"sha384-\" + hashes[url];\n      }\n      console.debug(\"Bokeh: injecting script tag for BokehJS library: \", url);\n      document.head.appendChild(element);\n    }\n  };\n\n  function inject_raw_css(css) {\n    const element = document.createElement(\"style\");\n    element.appendChild(document.createTextNode(css));\n    document.body.appendChild(element);\n  }\n\n  \n  var js_urls = [\"https://cdn.bokeh.org/bokeh/release/bokeh-2.2.3.min.js\", \"https://cdn.bokeh.org/bokeh/release/bokeh-widgets-2.2.3.min.js\", \"https://cdn.bokeh.org/bokeh/release/bokeh-tables-2.2.3.min.js\"];\n  var css_urls = [];\n  \n\n  var inline_js = [\n    function(Bokeh) {\n      Bokeh.set_log_level(\"info\");\n    },\n    function(Bokeh) {\n    \n    \n    }\n  ];\n\n  function run_inline_js() {\n    \n    if (root.Bokeh !== undefined || force === true) {\n      \n    for (var i = 0; i < inline_js.length; i++) {\n      inline_js[i].call(root, root.Bokeh);\n    }\n    if (force === true) {\n        display_loaded();\n      }} else if (Date.now() < root._bokeh_timeout) {\n      setTimeout(run_inline_js, 100);\n    } else if (!root._bokeh_failed_load) {\n      console.log(\"Bokeh: BokehJS failed to load within specified timeout.\");\n      root._bokeh_failed_load = true;\n    } else if (force !== true) {\n      var cell = $(document.getElementById(\"1001\")).parents('.cell').data().cell;\n      cell.output_area.append_execute_result(NB_LOAD_WARNING)\n    }\n\n  }\n\n  if (root._bokeh_is_loading === 0) {\n    console.debug(\"Bokeh: BokehJS loaded, going straight to plotting\");\n    run_inline_js();\n  } else {\n    load_libs(css_urls, js_urls, function() {\n      console.debug(\"Bokeh: BokehJS plotting callback run at\", now());\n      run_inline_js();\n    });\n  }\n}(window));"
     },
     "metadata": {},
     "output_type": "display_data"
    }
   ],
   "source": [
    "from bokeh.io import output_notebook\n",
    "output_notebook()\n",
    "\n",
    "from bokeh.plotting import figure\n",
    "from bokeh.io import show"
   ]
  },
  {
   "cell_type": "code",
   "execution_count": 3,
   "metadata": {},
   "outputs": [
    {
     "data": {
      "text/html": [
       "<div>\n",
       "<style scoped>\n",
       "    .dataframe tbody tr th:only-of-type {\n",
       "        vertical-align: middle;\n",
       "    }\n",
       "\n",
       "    .dataframe tbody tr th {\n",
       "        vertical-align: top;\n",
       "    }\n",
       "\n",
       "    .dataframe thead th {\n",
       "        text-align: right;\n",
       "    }\n",
       "</style>\n",
       "<table border=\"1\" class=\"dataframe\">\n",
       "  <thead>\n",
       "    <tr style=\"text-align: right;\">\n",
       "      <th></th>\n",
       "      <th>married</th>\n",
       "      <th>hourly_wage</th>\n",
       "      <th>years_in_education</th>\n",
       "      <th>years_in_employment</th>\n",
       "      <th>num_dependents</th>\n",
       "      <th>gender</th>\n",
       "      <th>race</th>\n",
       "    </tr>\n",
       "  </thead>\n",
       "  <tbody>\n",
       "    <tr>\n",
       "      <th>0</th>\n",
       "      <td>1.0</td>\n",
       "      <td>3.24</td>\n",
       "      <td>12.0</td>\n",
       "      <td>2.0</td>\n",
       "      <td>3.0</td>\n",
       "      <td>female</td>\n",
       "      <td>white</td>\n",
       "    </tr>\n",
       "    <tr>\n",
       "      <th>1</th>\n",
       "      <td>0.0</td>\n",
       "      <td>3.00</td>\n",
       "      <td>11.0</td>\n",
       "      <td>0.0</td>\n",
       "      <td>2.0</td>\n",
       "      <td>male</td>\n",
       "      <td>white</td>\n",
       "    </tr>\n",
       "    <tr>\n",
       "      <th>2</th>\n",
       "      <td>1.0</td>\n",
       "      <td>6.00</td>\n",
       "      <td>8.0</td>\n",
       "      <td>28.0</td>\n",
       "      <td>0.0</td>\n",
       "      <td>male</td>\n",
       "      <td>white</td>\n",
       "    </tr>\n",
       "    <tr>\n",
       "      <th>3</th>\n",
       "      <td>1.0</td>\n",
       "      <td>5.30</td>\n",
       "      <td>12.0</td>\n",
       "      <td>2.0</td>\n",
       "      <td>1.0</td>\n",
       "      <td>male</td>\n",
       "      <td>white</td>\n",
       "    </tr>\n",
       "    <tr>\n",
       "      <th>4</th>\n",
       "      <td>1.0</td>\n",
       "      <td>8.75</td>\n",
       "      <td>16.0</td>\n",
       "      <td>8.0</td>\n",
       "      <td>0.0</td>\n",
       "      <td>male</td>\n",
       "      <td>white</td>\n",
       "    </tr>\n",
       "  </tbody>\n",
       "</table>\n",
       "</div>"
      ],
      "text/plain": [
       "   married  hourly_wage  years_in_education  years_in_employment  \\\n",
       "0      1.0         3.24                12.0                  2.0   \n",
       "1      0.0         3.00                11.0                  0.0   \n",
       "2      1.0         6.00                 8.0                 28.0   \n",
       "3      1.0         5.30                12.0                  2.0   \n",
       "4      1.0         8.75                16.0                  8.0   \n",
       "\n",
       "   num_dependents  gender   race  \n",
       "0             3.0  female  white  \n",
       "1             2.0    male  white  \n",
       "2             0.0    male  white  \n",
       "3             1.0    male  white  \n",
       "4             0.0    male  white  "
      ]
     },
     "execution_count": 3,
     "metadata": {},
     "output_type": "execute_result"
    }
   ],
   "source": [
    "#the data is being loaded into the variable using pandas \n",
    "#library and first five rows is being displayed\n",
    "wages=pd.read_csv('C://Users//AMAN SRIVASTAVA//OneDrive//Desktop//Aishwarya//Assignment//wage.csv')\n",
    "wages.head()"
   ]
  },
  {
   "cell_type": "code",
   "execution_count": 4,
   "metadata": {},
   "outputs": [
    {
     "data": {
      "text/plain": [
       "(525, 7)"
      ]
     },
     "execution_count": 4,
     "metadata": {},
     "output_type": "execute_result"
    }
   ],
   "source": [
    "#number of rows and columns of wages in the dataframe\n",
    "wages.shape\n",
    "#there are 7 columns and 525 rows in the dataset"
   ]
  },
  {
   "cell_type": "code",
   "execution_count": 5,
   "metadata": {},
   "outputs": [
    {
     "name": "stdout",
     "output_type": "stream",
     "text": [
      "<class 'pandas.core.frame.DataFrame'>\n",
      "RangeIndex: 525 entries, 0 to 524\n",
      "Data columns (total 7 columns):\n",
      " #   Column               Non-Null Count  Dtype  \n",
      "---  ------               --------------  -----  \n",
      " 0   married              522 non-null    float64\n",
      " 1   hourly_wage          517 non-null    float64\n",
      " 2   years_in_education   522 non-null    float64\n",
      " 3   years_in_employment  519 non-null    float64\n",
      " 4   num_dependents       520 non-null    float64\n",
      " 5   gender               521 non-null    object \n",
      " 6   race                 515 non-null    object \n",
      "dtypes: float64(5), object(2)\n",
      "memory usage: 28.8+ KB\n"
     ]
    }
   ],
   "source": [
    "#gives information about the dataframe such as column labels, column data types,\n",
    "#number of cells in each column,non-null counts.\n",
    "wages.info()"
   ]
  },
  {
   "cell_type": "code",
   "execution_count": 6,
   "metadata": {},
   "outputs": [
    {
     "data": {
      "text/html": [
       "<div>\n",
       "<style scoped>\n",
       "    .dataframe tbody tr th:only-of-type {\n",
       "        vertical-align: middle;\n",
       "    }\n",
       "\n",
       "    .dataframe tbody tr th {\n",
       "        vertical-align: top;\n",
       "    }\n",
       "\n",
       "    .dataframe thead th {\n",
       "        text-align: right;\n",
       "    }\n",
       "</style>\n",
       "<table border=\"1\" class=\"dataframe\">\n",
       "  <thead>\n",
       "    <tr style=\"text-align: right;\">\n",
       "      <th></th>\n",
       "      <th>married</th>\n",
       "      <th>hourly_wage</th>\n",
       "      <th>years_in_education</th>\n",
       "      <th>years_in_employment</th>\n",
       "      <th>num_dependents</th>\n",
       "    </tr>\n",
       "  </thead>\n",
       "  <tbody>\n",
       "    <tr>\n",
       "      <th>count</th>\n",
       "      <td>522.000000</td>\n",
       "      <td>517.000000</td>\n",
       "      <td>522.000000</td>\n",
       "      <td>519.000000</td>\n",
       "      <td>520.000000</td>\n",
       "    </tr>\n",
       "    <tr>\n",
       "      <th>mean</th>\n",
       "      <td>0.609195</td>\n",
       "      <td>5.917737</td>\n",
       "      <td>12.557471</td>\n",
       "      <td>5.152216</td>\n",
       "      <td>1.044231</td>\n",
       "    </tr>\n",
       "    <tr>\n",
       "      <th>std</th>\n",
       "      <td>0.488399</td>\n",
       "      <td>3.699058</td>\n",
       "      <td>2.757219</td>\n",
       "      <td>7.257133</td>\n",
       "      <td>1.258484</td>\n",
       "    </tr>\n",
       "    <tr>\n",
       "      <th>min</th>\n",
       "      <td>0.000000</td>\n",
       "      <td>0.530000</td>\n",
       "      <td>0.000000</td>\n",
       "      <td>0.000000</td>\n",
       "      <td>0.000000</td>\n",
       "    </tr>\n",
       "    <tr>\n",
       "      <th>25%</th>\n",
       "      <td>0.000000</td>\n",
       "      <td>3.350000</td>\n",
       "      <td>12.000000</td>\n",
       "      <td>0.000000</td>\n",
       "      <td>0.000000</td>\n",
       "    </tr>\n",
       "    <tr>\n",
       "      <th>50%</th>\n",
       "      <td>1.000000</td>\n",
       "      <td>4.670000</td>\n",
       "      <td>12.000000</td>\n",
       "      <td>2.000000</td>\n",
       "      <td>1.000000</td>\n",
       "    </tr>\n",
       "    <tr>\n",
       "      <th>75%</th>\n",
       "      <td>1.000000</td>\n",
       "      <td>6.880000</td>\n",
       "      <td>14.000000</td>\n",
       "      <td>7.000000</td>\n",
       "      <td>2.000000</td>\n",
       "    </tr>\n",
       "    <tr>\n",
       "      <th>max</th>\n",
       "      <td>1.000000</td>\n",
       "      <td>24.980000</td>\n",
       "      <td>18.000000</td>\n",
       "      <td>44.000000</td>\n",
       "      <td>6.000000</td>\n",
       "    </tr>\n",
       "  </tbody>\n",
       "</table>\n",
       "</div>"
      ],
      "text/plain": [
       "          married  hourly_wage  years_in_education  years_in_employment  \\\n",
       "count  522.000000   517.000000          522.000000           519.000000   \n",
       "mean     0.609195     5.917737           12.557471             5.152216   \n",
       "std      0.488399     3.699058            2.757219             7.257133   \n",
       "min      0.000000     0.530000            0.000000             0.000000   \n",
       "25%      0.000000     3.350000           12.000000             0.000000   \n",
       "50%      1.000000     4.670000           12.000000             2.000000   \n",
       "75%      1.000000     6.880000           14.000000             7.000000   \n",
       "max      1.000000    24.980000           18.000000            44.000000   \n",
       "\n",
       "       num_dependents  \n",
       "count      520.000000  \n",
       "mean         1.044231  \n",
       "std          1.258484  \n",
       "min          0.000000  \n",
       "25%          0.000000  \n",
       "50%          1.000000  \n",
       "75%          2.000000  \n",
       "max          6.000000  "
      ]
     },
     "execution_count": 6,
     "metadata": {},
     "output_type": "execute_result"
    }
   ],
   "source": [
    "#descriptive statistics  different variables in the dataframe\n",
    "#this gives the mean,standard deviation ,count,minimum and maximum\n",
    "#values 25%, 50% and 75% quartile ranges of different variables\n",
    "wages.describe()"
   ]
  },
  {
   "cell_type": "markdown",
   "metadata": {},
   "source": [
    "As we can see that the mean hourly wage is 5.91 and the maximum wage is 24.98 where as the minumum wage is 0.53.One of the person has 6 dependents and the maximum a person has work experience is for 44 years"
   ]
  },
  {
   "cell_type": "code",
   "execution_count": 7,
   "metadata": {},
   "outputs": [
    {
     "data": {
      "text/plain": [
       "married                 3\n",
       "hourly_wage             8\n",
       "years_in_education      3\n",
       "years_in_employment     6\n",
       "num_dependents          5\n",
       "gender                  4\n",
       "race                   10\n",
       "dtype: int64"
      ]
     },
     "execution_count": 7,
     "metadata": {},
     "output_type": "execute_result"
    }
   ],
   "source": [
    "#check for null values and its count in the dataset and\n",
    "#creating a new variable to keep the original dataset\n",
    "#the is null function is used to check for null values\n",
    "wage_new = wages\n",
    "wage_new.isnull().sum()"
   ]
  },
  {
   "cell_type": "code",
   "execution_count": 8,
   "metadata": {},
   "outputs": [],
   "source": [
    "#there are 4 continuous variables with null values, those null values\n",
    "#are filled with mean of that variable.We are  filling the hourly wage , years in education,\n",
    "#years in employement and number of dependents with their mean.\n",
    "wage_new['hourly_wage'] = wage_new['hourly_wage'].fillna(wage_new.hourly_wage.mean())\n",
    "wage_new['years_in_education'] = wage_new['years_in_education'].fillna(wage_new.years_in_education.mean())\n",
    "wage_new['years_in_employment'] = wage_new['years_in_employment'].fillna(wage_new.years_in_employment.mean())\n",
    "wage_new['num_dependents'] = wage_new['num_dependents'].fillna(wage_new.num_dependents.mean())"
   ]
  },
  {
   "cell_type": "code",
   "execution_count": 9,
   "metadata": {},
   "outputs": [],
   "source": [
    "#there are 3 categorical variables with null values, those null values\n",
    "#are filled with the mode of gender, race and married variables\n",
    "married_mode= wage_new.married.mode()[0]\n",
    "wage_new.married.fillna(married_mode, inplace=True)\n",
    "gender_mode = wage_new.gender.mode()[0]\n",
    "wage_new.gender.fillna(gender_mode, inplace=True)\n",
    "race_mode = wage_new.race.mode()[0]\n",
    "wage_new.race.fillna(race_mode, inplace=True)"
   ]
  },
  {
   "cell_type": "code",
   "execution_count": 10,
   "metadata": {},
   "outputs": [
    {
     "data": {
      "text/plain": [
       "married                0\n",
       "hourly_wage            0\n",
       "years_in_education     0\n",
       "years_in_employment    0\n",
       "num_dependents         0\n",
       "gender                 0\n",
       "race                   0\n",
       "dtype: int64"
      ]
     },
     "execution_count": 10,
     "metadata": {},
     "output_type": "execute_result"
    }
   ],
   "source": [
    "#getting count of null values again, we see that there are no null values\n",
    "wage_new.isnull().sum()"
   ]
  },
  {
   "cell_type": "code",
   "execution_count": 11,
   "metadata": {},
   "outputs": [
    {
     "data": {
      "text/plain": [
       "array([[<AxesSubplot:title={'center':'hourly_wage'}>,\n",
       "        <AxesSubplot:title={'center':'years_in_education'}>],\n",
       "       [<AxesSubplot:title={'center':'years_in_employment'}>,\n",
       "        <AxesSubplot:>]], dtype=object)"
      ]
     },
     "execution_count": 11,
     "metadata": {},
     "output_type": "execute_result"
    },
    {
     "data": {
      "image/png": "[encoded data removed]",
      "text/plain": [
       "<Figure size 504x432 with 4 Axes>"
      ]
     },
     "metadata": {
      "needs_background": "light"
     },
     "output_type": "display_data"
    }
   ],
   "source": [
    "#Using a histogram to visualise the distribution of multiple variables.\n",
    "#here we have displayed the disribution of hourly wage, years in education and\n",
    "#years in employement variables keeping the pins as 6 which means that the bars that is \n",
    "#plotted,the height of which shows the number of data pointsin that bin.\n",
    "wage_new.hist(column=['hourly_wage','years_in_education','years_in_employment'],bins=6, figsize=(7,6))"
   ]
  },
  {
   "cell_type": "markdown",
   "metadata": {},
   "source": [
    "The are more than 450 people having hourly_wage less than 10, there are more than 275 people who have spent 12 to 15 years in education and there are about 400 people who have less than 10 years of work experience.The hourly wage and years in employement is right skewed and the years in education is left skewed."
   ]
  },
  {
   "cell_type": "code",
   "execution_count": 12,
   "metadata": {},
   "outputs": [
    {
     "data": {
      "image/png": "[encoded data removed]",
      "text/plain": [
       "<Figure size 432x288 with 1 Axes>"
      ]
     },
     "metadata": {
      "needs_background": "light"
     },
     "output_type": "display_data"
    }
   ],
   "source": [
    "#using scatter plot to Visualize of a pair of continuous variables\n",
    "#we have plotted tthe scatter plot between hourly wage and years in employement\n",
    "plt.scatter(wage_new.hourly_wage, wage_new.years_in_employment)\n",
    "plt.xlabel(\"Hourly wage\")\n",
    "plt.ylabel(\"experience\")\n",
    "plt.show()"
   ]
  },
  {
   "cell_type": "markdown",
   "metadata": {},
   "source": [
    "The plot depicts that there is a huge chunk of people who have work experience of less than 15 years and they have hourly wage of less than 10. There is only one person who has an experience of almost 30 years with hourly wage of 25.One person has experiance of more than 40 years and the hourly wage is less than 10."
   ]
  },
  {
   "cell_type": "code",
   "execution_count": 13,
   "metadata": {},
   "outputs": [
    {
     "data": {
      "text/plain": [
       "0.3409752848522271"
      ]
     },
     "execution_count": 13,
     "metadata": {},
     "output_type": "execute_result"
    }
   ],
   "source": [
    "#correlation is used to determine the strenge of the variables\n",
    "#we are checking for the correlation between hourly wage and work experience\n",
    "scipy.stats.pearsonr(wage_new.hourly_wage, wage_new.years_in_employment)[0]"
   ]
  },
  {
   "cell_type": "markdown",
   "metadata": {},
   "source": [
    "there is weak relation between hourly wage and work experience.so the years in employment does not have very good influence on hourly wage."
   ]
  },
  {
   "cell_type": "code",
   "execution_count": 14,
   "metadata": {},
   "outputs": [
    {
     "data": {
      "text/plain": [
       "<AxesSubplot:>"
      ]
     },
     "execution_count": 14,
     "metadata": {},
     "output_type": "execute_result"
    },
    {
     "data": {
      "image/png": "[encoded data removed]",
      "text/plain": [
       "<Figure size 432x288 with 1 Axes>"
      ]
     },
     "metadata": {
      "needs_background": "light"
     },
     "output_type": "display_data"
    }
   ],
   "source": [
    "#using bargraph for visualizing the unique values of categorical variable\n",
    "#here we are trying to visualize the married variable\n",
    "wage_new['married'].value_counts().plot.barh()"
   ]
  },
  {
   "cell_type": "markdown",
   "metadata": {},
   "source": [
    "This graph depicts that there are more number of people who are married. 1 is for people who are married and 0 is for unmarried."
   ]
  },
  {
   "cell_type": "code",
   "execution_count": 15,
   "metadata": {},
   "outputs": [
    {
     "data": {
      "text/plain": [
       "<AxesSubplot:>"
      ]
     },
     "execution_count": 15,
     "metadata": {},
     "output_type": "execute_result"
    },
    {
     "data": {
      "image/png": "[encoded data removed]",
      "text/plain": [
       "<Figure size 432x288 with 1 Axes>"
      ]
     },
     "metadata": {
      "needs_background": "light"
     },
     "output_type": "display_data"
    }
   ],
   "source": [
    "#Using bar graph for visualizing the distribution of race variable\n",
    "wage_new['race'].value_counts().plot.barh()"
   ]
  },
  {
   "cell_type": "markdown",
   "metadata": {},
   "source": [
    "There are more number of white people than the non-white people in the data"
   ]
  },
  {
   "cell_type": "code",
   "execution_count": 16,
   "metadata": {},
   "outputs": [
    {
     "data": {
      "text/plain": [
       "<AxesSubplot:>"
      ]
     },
     "execution_count": 16,
     "metadata": {},
     "output_type": "execute_result"
    },
    {
     "data": {
      "image/png": "[encoded data removed]",
      "text/plain": [
       "<Figure size 432x288 with 1 Axes>"
      ]
     },
     "metadata": {
      "needs_background": "light"
     },
     "output_type": "display_data"
    }
   ],
   "source": [
    "#plotting the ditribution of gender using bar graph\n",
    "wage_new['gender'].value_counts().plot.barh()"
   ]
  },
  {
   "cell_type": "markdown",
   "metadata": {},
   "source": [
    "from the data it can be understood that it has about 275 male and females are less than 250"
   ]
  },
  {
   "cell_type": "code",
   "execution_count": 17,
   "metadata": {},
   "outputs": [
    {
     "data": {
      "text/html": [
       "<div>\n",
       "<style scoped>\n",
       "    .dataframe tbody tr th:only-of-type {\n",
       "        vertical-align: middle;\n",
       "    }\n",
       "\n",
       "    .dataframe tbody tr th {\n",
       "        vertical-align: top;\n",
       "    }\n",
       "\n",
       "    .dataframe thead th {\n",
       "        text-align: right;\n",
       "    }\n",
       "</style>\n",
       "<table border=\"1\" class=\"dataframe\">\n",
       "  <thead>\n",
       "    <tr style=\"text-align: right;\">\n",
       "      <th>race</th>\n",
       "      <th>nonwhite</th>\n",
       "      <th>white</th>\n",
       "    </tr>\n",
       "    <tr>\n",
       "      <th>gender</th>\n",
       "      <th></th>\n",
       "      <th></th>\n",
       "    </tr>\n",
       "  </thead>\n",
       "  <tbody>\n",
       "    <tr>\n",
       "      <th>female</th>\n",
       "      <td>25</td>\n",
       "      <td>224</td>\n",
       "    </tr>\n",
       "    <tr>\n",
       "      <th>male</th>\n",
       "      <td>29</td>\n",
       "      <td>247</td>\n",
       "    </tr>\n",
       "  </tbody>\n",
       "</table>\n",
       "</div>"
      ],
      "text/plain": [
       "race    nonwhite  white\n",
       "gender                 \n",
       "female        25    224\n",
       "male          29    247"
      ]
     },
     "execution_count": 17,
     "metadata": {},
     "output_type": "execute_result"
    }
   ],
   "source": [
    "#Make a contingency table to show how frequently different values \n",
    "#of the two categorical variables occur together.\n",
    "cont_table1 = pd.crosstab(wage_new['gender'], wage_new['race'])\n",
    "# printing the contingency table\n",
    "cont_table1\n",
    "#we see that there are 224 white females and 247 white males"
   ]
  },
  {
   "cell_type": "markdown",
   "metadata": {},
   "source": [
    "Using chi-square test we will be determining the test of independence\n",
    "\n",
    "null hypothesis : gender is not dependent on race.\n",
    "\n",
    "alternate hypothesis : gender is dependent on the race."
   ]
  },
  {
   "cell_type": "code",
   "execution_count": 18,
   "metadata": {},
   "outputs": [
    {
     "data": {
      "text/plain": [
       "<AxesSubplot:xlabel='gender'>"
      ]
     },
     "execution_count": 18,
     "metadata": {},
     "output_type": "execute_result"
    },
    {
     "data": {
      "image/png": "[encoded data removed]",
      "text/plain": [
       "<Figure size 432x288 with 1 Axes>"
      ]
     },
     "metadata": {
      "needs_background": "light"
     },
     "output_type": "display_data"
    }
   ],
   "source": [
    "#using stacked bar graph to plot the contingency table \n",
    "cont_table1.plot(kind=\"bar\", stacked=True, rot=0)"
   ]
  },
  {
   "cell_type": "markdown",
   "metadata": {},
   "source": [
    "As per the graph most of the males and females are white. We can also infer from the graph that there are more number of  whites in both male and female."
   ]
  },
  {
   "cell_type": "code",
   "execution_count": 19,
   "metadata": {},
   "outputs": [
    {
     "name": "stdout",
     "output_type": "stream",
     "text": [
      "p-value: 0.9744235870731893\n"
     ]
    }
   ],
   "source": [
    "#performing  chi-square test\n",
    "chi2, p_val, dof, expected = stats.chi2_contingency(cont_table1)\n",
    "print(f\"p-value: {p_val}\")"
   ]
  },
  {
   "cell_type": "markdown",
   "metadata": {},
   "source": [
    "Since the p-value is greater than 0.05, so we fail to reject the null hypothesis. Hence race and gender are not dependent on each other.Thus for a decision the race will not effect gender."
   ]
  },
  {
   "cell_type": "code",
   "execution_count": 20,
   "metadata": {},
   "outputs": [
    {
     "data": {
      "text/html": [
       "<div>\n",
       "<style scoped>\n",
       "    .dataframe tbody tr th:only-of-type {\n",
       "        vertical-align: middle;\n",
       "    }\n",
       "\n",
       "    .dataframe tbody tr th {\n",
       "        vertical-align: top;\n",
       "    }\n",
       "\n",
       "    .dataframe thead th {\n",
       "        text-align: right;\n",
       "    }\n",
       "</style>\n",
       "<table border=\"1\" class=\"dataframe\">\n",
       "  <thead>\n",
       "    <tr style=\"text-align: right;\">\n",
       "      <th></th>\n",
       "      <th>married</th>\n",
       "      <th>hourly_wage</th>\n",
       "      <th>years_in_education</th>\n",
       "      <th>years_in_employment</th>\n",
       "      <th>num_dependents</th>\n",
       "      <th>gender</th>\n",
       "      <th>race</th>\n",
       "    </tr>\n",
       "  </thead>\n",
       "  <tbody>\n",
       "    <tr>\n",
       "      <th>0</th>\n",
       "      <td>1.0</td>\n",
       "      <td>3.24</td>\n",
       "      <td>12.0</td>\n",
       "      <td>2.0</td>\n",
       "      <td>3.0</td>\n",
       "      <td>female</td>\n",
       "      <td>white</td>\n",
       "    </tr>\n",
       "    <tr>\n",
       "      <th>1</th>\n",
       "      <td>0.0</td>\n",
       "      <td>3.00</td>\n",
       "      <td>11.0</td>\n",
       "      <td>0.0</td>\n",
       "      <td>2.0</td>\n",
       "      <td>male</td>\n",
       "      <td>white</td>\n",
       "    </tr>\n",
       "    <tr>\n",
       "      <th>2</th>\n",
       "      <td>1.0</td>\n",
       "      <td>6.00</td>\n",
       "      <td>8.0</td>\n",
       "      <td>28.0</td>\n",
       "      <td>0.0</td>\n",
       "      <td>male</td>\n",
       "      <td>white</td>\n",
       "    </tr>\n",
       "    <tr>\n",
       "      <th>3</th>\n",
       "      <td>1.0</td>\n",
       "      <td>5.30</td>\n",
       "      <td>12.0</td>\n",
       "      <td>2.0</td>\n",
       "      <td>1.0</td>\n",
       "      <td>male</td>\n",
       "      <td>white</td>\n",
       "    </tr>\n",
       "    <tr>\n",
       "      <th>4</th>\n",
       "      <td>1.0</td>\n",
       "      <td>8.75</td>\n",
       "      <td>16.0</td>\n",
       "      <td>8.0</td>\n",
       "      <td>0.0</td>\n",
       "      <td>male</td>\n",
       "      <td>white</td>\n",
       "    </tr>\n",
       "  </tbody>\n",
       "</table>\n",
       "</div>"
      ],
      "text/plain": [
       "   married  hourly_wage  years_in_education  years_in_employment  \\\n",
       "0      1.0         3.24                12.0                  2.0   \n",
       "1      0.0         3.00                11.0                  0.0   \n",
       "2      1.0         6.00                 8.0                 28.0   \n",
       "3      1.0         5.30                12.0                  2.0   \n",
       "4      1.0         8.75                16.0                  8.0   \n",
       "\n",
       "   num_dependents  gender   race  \n",
       "0             3.0  female  white  \n",
       "1             2.0    male  white  \n",
       "2             0.0    male  white  \n",
       "3             1.0    male  white  \n",
       "4             0.0    male  white  "
      ]
     },
     "execution_count": 20,
     "metadata": {},
     "output_type": "execute_result"
    }
   ],
   "source": [
    "#creating a subset using two conditions one of them is players \n",
    "#who have hourly wage less than 12 and the other is their race is white\n",
    "subset1_data = wage_new[(wage_new.hourly_wage < 12) & (wage_new.race == 'white')]\n",
    "subset1_data.head()\n",
    "#the data below shows the first five rows of the used conditions"
   ]
  },
  {
   "cell_type": "code",
   "execution_count": 21,
   "metadata": {},
   "outputs": [
    {
     "data": {
      "text/html": [
       "<div>\n",
       "<style scoped>\n",
       "    .dataframe tbody tr th:only-of-type {\n",
       "        vertical-align: middle;\n",
       "    }\n",
       "\n",
       "    .dataframe tbody tr th {\n",
       "        vertical-align: top;\n",
       "    }\n",
       "\n",
       "    .dataframe thead th {\n",
       "        text-align: right;\n",
       "    }\n",
       "</style>\n",
       "<table border=\"1\" class=\"dataframe\">\n",
       "  <thead>\n",
       "    <tr style=\"text-align: right;\">\n",
       "      <th></th>\n",
       "      <th>married</th>\n",
       "      <th>hourly_wage</th>\n",
       "      <th>years_in_education</th>\n",
       "      <th>years_in_employment</th>\n",
       "      <th>num_dependents</th>\n",
       "      <th>gender</th>\n",
       "      <th>race</th>\n",
       "    </tr>\n",
       "  </thead>\n",
       "  <tbody>\n",
       "    <tr>\n",
       "      <th>2</th>\n",
       "      <td>1.0</td>\n",
       "      <td>6.00</td>\n",
       "      <td>8.0</td>\n",
       "      <td>28.0</td>\n",
       "      <td>0.0</td>\n",
       "      <td>male</td>\n",
       "      <td>white</td>\n",
       "    </tr>\n",
       "    <tr>\n",
       "      <th>36</th>\n",
       "      <td>1.0</td>\n",
       "      <td>3.51</td>\n",
       "      <td>4.0</td>\n",
       "      <td>15.0</td>\n",
       "      <td>5.0</td>\n",
       "      <td>male</td>\n",
       "      <td>white</td>\n",
       "    </tr>\n",
       "    <tr>\n",
       "      <th>56</th>\n",
       "      <td>0.0</td>\n",
       "      <td>10.00</td>\n",
       "      <td>8.0</td>\n",
       "      <td>0.0</td>\n",
       "      <td>0.0</td>\n",
       "      <td>male</td>\n",
       "      <td>nonwhite</td>\n",
       "    </tr>\n",
       "    <tr>\n",
       "      <th>79</th>\n",
       "      <td>1.0</td>\n",
       "      <td>4.50</td>\n",
       "      <td>9.0</td>\n",
       "      <td>5.0</td>\n",
       "      <td>4.0</td>\n",
       "      <td>male</td>\n",
       "      <td>white</td>\n",
       "    </tr>\n",
       "    <tr>\n",
       "      <th>87</th>\n",
       "      <td>1.0</td>\n",
       "      <td>9.85</td>\n",
       "      <td>8.0</td>\n",
       "      <td>24.0</td>\n",
       "      <td>2.0</td>\n",
       "      <td>male</td>\n",
       "      <td>nonwhite</td>\n",
       "    </tr>\n",
       "  </tbody>\n",
       "</table>\n",
       "</div>"
      ],
      "text/plain": [
       "    married  hourly_wage  years_in_education  years_in_employment  \\\n",
       "2       1.0         6.00                 8.0                 28.0   \n",
       "36      1.0         3.51                 4.0                 15.0   \n",
       "56      0.0        10.00                 8.0                  0.0   \n",
       "79      1.0         4.50                 9.0                  5.0   \n",
       "87      1.0         9.85                 8.0                 24.0   \n",
       "\n",
       "    num_dependents gender      race  \n",
       "2              0.0   male     white  \n",
       "36             5.0   male     white  \n",
       "56             0.0   male  nonwhite  \n",
       "79             4.0   male     white  \n",
       "87             2.0   male  nonwhite  "
      ]
     },
     "execution_count": 21,
     "metadata": {},
     "output_type": "execute_result"
    }
   ],
   "source": [
    "#creating another subset using two conditions where one of them is player\n",
    "#whose gender is male and the other is having studied for less than 10 years\n",
    "subset2_data = wage_new[(wage_new.gender == 'male') & (wage_new.years_in_education < 10)]\n",
    "subset2_data.head()"
   ]
  },
  {
   "cell_type": "code",
   "execution_count": 22,
   "metadata": {},
   "outputs": [
    {
     "data": {
      "text/html": [
       "<div>\n",
       "<style scoped>\n",
       "    .dataframe tbody tr th:only-of-type {\n",
       "        vertical-align: middle;\n",
       "    }\n",
       "\n",
       "    .dataframe tbody tr th {\n",
       "        vertical-align: top;\n",
       "    }\n",
       "\n",
       "    .dataframe thead th {\n",
       "        text-align: right;\n",
       "    }\n",
       "</style>\n",
       "<table border=\"1\" class=\"dataframe\">\n",
       "  <thead>\n",
       "    <tr style=\"text-align: right;\">\n",
       "      <th></th>\n",
       "      <th>married</th>\n",
       "      <th>hourly_wage</th>\n",
       "      <th>years_in_education</th>\n",
       "      <th>years_in_employment</th>\n",
       "      <th>num_dependents</th>\n",
       "    </tr>\n",
       "  </thead>\n",
       "  <tbody>\n",
       "    <tr>\n",
       "      <th>count</th>\n",
       "      <td>438.000000</td>\n",
       "      <td>438.000000</td>\n",
       "      <td>438.000000</td>\n",
       "      <td>438.000000</td>\n",
       "      <td>438.000000</td>\n",
       "    </tr>\n",
       "    <tr>\n",
       "      <th>mean</th>\n",
       "      <td>0.609589</td>\n",
       "      <td>5.171915</td>\n",
       "      <td>12.456883</td>\n",
       "      <td>4.613610</td>\n",
       "      <td>1.009637</td>\n",
       "    </tr>\n",
       "    <tr>\n",
       "      <th>std</th>\n",
       "      <td>0.488400</td>\n",
       "      <td>2.309067</td>\n",
       "      <td>2.618449</td>\n",
       "      <td>6.790882</td>\n",
       "      <td>1.225183</td>\n",
       "    </tr>\n",
       "    <tr>\n",
       "      <th>min</th>\n",
       "      <td>0.000000</td>\n",
       "      <td>0.530000</td>\n",
       "      <td>0.000000</td>\n",
       "      <td>0.000000</td>\n",
       "      <td>0.000000</td>\n",
       "    </tr>\n",
       "    <tr>\n",
       "      <th>25%</th>\n",
       "      <td>0.000000</td>\n",
       "      <td>3.300000</td>\n",
       "      <td>12.000000</td>\n",
       "      <td>0.000000</td>\n",
       "      <td>0.000000</td>\n",
       "    </tr>\n",
       "    <tr>\n",
       "      <th>50%</th>\n",
       "      <td>1.000000</td>\n",
       "      <td>4.500000</td>\n",
       "      <td>12.000000</td>\n",
       "      <td>2.000000</td>\n",
       "      <td>1.000000</td>\n",
       "    </tr>\n",
       "    <tr>\n",
       "      <th>75%</th>\n",
       "      <td>1.000000</td>\n",
       "      <td>6.345000</td>\n",
       "      <td>14.000000</td>\n",
       "      <td>6.000000</td>\n",
       "      <td>2.000000</td>\n",
       "    </tr>\n",
       "    <tr>\n",
       "      <th>max</th>\n",
       "      <td>1.000000</td>\n",
       "      <td>11.980000</td>\n",
       "      <td>18.000000</td>\n",
       "      <td>44.000000</td>\n",
       "      <td>6.000000</td>\n",
       "    </tr>\n",
       "  </tbody>\n",
       "</table>\n",
       "</div>"
      ],
      "text/plain": [
       "          married  hourly_wage  years_in_education  years_in_employment  \\\n",
       "count  438.000000   438.000000          438.000000           438.000000   \n",
       "mean     0.609589     5.171915           12.456883             4.613610   \n",
       "std      0.488400     2.309067            2.618449             6.790882   \n",
       "min      0.000000     0.530000            0.000000             0.000000   \n",
       "25%      0.000000     3.300000           12.000000             0.000000   \n",
       "50%      1.000000     4.500000           12.000000             2.000000   \n",
       "75%      1.000000     6.345000           14.000000             6.000000   \n",
       "max      1.000000    11.980000           18.000000            44.000000   \n",
       "\n",
       "       num_dependents  \n",
       "count      438.000000  \n",
       "mean         1.009637  \n",
       "std          1.225183  \n",
       "min          0.000000  \n",
       "25%          0.000000  \n",
       "50%          1.000000  \n",
       "75%          2.000000  \n",
       "max          6.000000  "
      ]
     },
     "execution_count": 22,
     "metadata": {},
     "output_type": "execute_result"
    }
   ],
   "source": [
    "#statistical summary for the retrieved from the first subset of data\n",
    "subset1_data.describe()"
   ]
  },
  {
   "cell_type": "markdown",
   "metadata": {},
   "source": [
    "From the data in subset one we can infer that on a count of 438 samples the hourly wage is 5.17 and the maximum wage is 11.98. there is a sample that has a maximum of 12 years in education."
   ]
  },
  {
   "cell_type": "code",
   "execution_count": 23,
   "metadata": {},
   "outputs": [
    {
     "data": {
      "text/html": [
       "<div>\n",
       "<style scoped>\n",
       "    .dataframe tbody tr th:only-of-type {\n",
       "        vertical-align: middle;\n",
       "    }\n",
       "\n",
       "    .dataframe tbody tr th {\n",
       "        vertical-align: top;\n",
       "    }\n",
       "\n",
       "    .dataframe thead th {\n",
       "        text-align: right;\n",
       "    }\n",
       "</style>\n",
       "<table border=\"1\" class=\"dataframe\">\n",
       "  <thead>\n",
       "    <tr style=\"text-align: right;\">\n",
       "      <th></th>\n",
       "      <th>married</th>\n",
       "      <th>hourly_wage</th>\n",
       "      <th>years_in_education</th>\n",
       "      <th>years_in_employment</th>\n",
       "      <th>num_dependents</th>\n",
       "    </tr>\n",
       "  </thead>\n",
       "  <tbody>\n",
       "    <tr>\n",
       "      <th>count</th>\n",
       "      <td>33.000000</td>\n",
       "      <td>33.000000</td>\n",
       "      <td>33.000000</td>\n",
       "      <td>33.000000</td>\n",
       "      <td>33.000000</td>\n",
       "    </tr>\n",
       "    <tr>\n",
       "      <th>mean</th>\n",
       "      <td>0.666667</td>\n",
       "      <td>4.571447</td>\n",
       "      <td>7.242424</td>\n",
       "      <td>9.515152</td>\n",
       "      <td>1.878788</td>\n",
       "    </tr>\n",
       "    <tr>\n",
       "      <th>std</th>\n",
       "      <td>0.478714</td>\n",
       "      <td>2.301427</td>\n",
       "      <td>1.904441</td>\n",
       "      <td>10.350487</td>\n",
       "      <td>2.057875</td>\n",
       "    </tr>\n",
       "    <tr>\n",
       "      <th>min</th>\n",
       "      <td>0.000000</td>\n",
       "      <td>1.500000</td>\n",
       "      <td>2.000000</td>\n",
       "      <td>0.000000</td>\n",
       "      <td>0.000000</td>\n",
       "    </tr>\n",
       "    <tr>\n",
       "      <th>25%</th>\n",
       "      <td>0.000000</td>\n",
       "      <td>3.000000</td>\n",
       "      <td>6.000000</td>\n",
       "      <td>0.000000</td>\n",
       "      <td>0.000000</td>\n",
       "    </tr>\n",
       "    <tr>\n",
       "      <th>50%</th>\n",
       "      <td>1.000000</td>\n",
       "      <td>3.760000</td>\n",
       "      <td>8.000000</td>\n",
       "      <td>6.000000</td>\n",
       "      <td>1.000000</td>\n",
       "    </tr>\n",
       "    <tr>\n",
       "      <th>75%</th>\n",
       "      <td>1.000000</td>\n",
       "      <td>5.200000</td>\n",
       "      <td>8.000000</td>\n",
       "      <td>17.000000</td>\n",
       "      <td>3.000000</td>\n",
       "    </tr>\n",
       "    <tr>\n",
       "      <th>max</th>\n",
       "      <td>1.000000</td>\n",
       "      <td>10.000000</td>\n",
       "      <td>9.000000</td>\n",
       "      <td>30.000000</td>\n",
       "      <td>6.000000</td>\n",
       "    </tr>\n",
       "  </tbody>\n",
       "</table>\n",
       "</div>"
      ],
      "text/plain": [
       "         married  hourly_wage  years_in_education  years_in_employment  \\\n",
       "count  33.000000    33.000000           33.000000            33.000000   \n",
       "mean    0.666667     4.571447            7.242424             9.515152   \n",
       "std     0.478714     2.301427            1.904441            10.350487   \n",
       "min     0.000000     1.500000            2.000000             0.000000   \n",
       "25%     0.000000     3.000000            6.000000             0.000000   \n",
       "50%     1.000000     3.760000            8.000000             6.000000   \n",
       "75%     1.000000     5.200000            8.000000            17.000000   \n",
       "max     1.000000    10.000000            9.000000            30.000000   \n",
       "\n",
       "       num_dependents  \n",
       "count       33.000000  \n",
       "mean         1.878788  \n",
       "std          2.057875  \n",
       "min          0.000000  \n",
       "25%          0.000000  \n",
       "50%          1.000000  \n",
       "75%          3.000000  \n",
       "max          6.000000  "
      ]
     },
     "execution_count": 23,
     "metadata": {},
     "output_type": "execute_result"
    }
   ],
   "source": [
    "#stastical summary for the retrieved from the second subset of data\n",
    "subset2_data.describe()"
   ]
  },
  {
   "cell_type": "markdown",
   "metadata": {},
   "source": [
    "From the data in subset 2, we see that on a count of 33 sample the mean is only 4.57 and the maximum wag eis 10.\n",
    "A sample has a maximum of 12 years in education."
   ]
  },
  {
   "cell_type": "code",
   "execution_count": 24,
   "metadata": {},
   "outputs": [],
   "source": [
    "#retrieveing data of hourly wage of male and female and storing it a variable\n",
    "male = wage_new[wage_new['gender'] == 'male']['hourly_wage']\n",
    "female = wage_new[wage_new['gender'] == 'female']['hourly_wage']\n",
    "#We will use the male and female variables to find if there is difference between the means of two variables"
   ]
  },
  {
   "cell_type": "markdown",
   "metadata": {},
   "source": [
    "Independent two sample test is used to determine if there is a difference in the mean of two groups.\n",
    "\n",
    "null hypothesis : there is a no significant difference between means of hourly wage of male\n",
    "\n",
    "alternate hypothesis :there is a significant difference between means of hourly wage of female"
   ]
  },
  {
   "cell_type": "code",
   "execution_count": 25,
   "metadata": {},
   "outputs": [
    {
     "name": "stdout",
     "output_type": "stream",
     "text": [
      "t-value: 8.031421687181917, p-value: 6.421537070785262e-15\n"
     ]
    }
   ],
   "source": [
    "# for independet two sample test we have used a pre-defiend function ttest_ind\n",
    "t_val, p_val = stats.ttest_ind(male, female)\n",
    "#We have printed the value of t and p\n",
    "print(f\"t-value: {t_val}, p-value: {p_val}\")"
   ]
  },
  {
   "cell_type": "markdown",
   "metadata": {},
   "source": [
    "p-value is less than 0.05, hence we reject null hypothesis.Thus there is difference in the means of hourly wage of males and females. The males and females have different hourly pay."
   ]
  },
  {
   "cell_type": "code",
   "execution_count": 26,
   "metadata": {},
   "outputs": [
    {
     "data": {
      "text/html": [
       "<div>\n",
       "<style scoped>\n",
       "    .dataframe tbody tr th:only-of-type {\n",
       "        vertical-align: middle;\n",
       "    }\n",
       "\n",
       "    .dataframe tbody tr th {\n",
       "        vertical-align: top;\n",
       "    }\n",
       "\n",
       "    .dataframe thead th {\n",
       "        text-align: right;\n",
       "    }\n",
       "</style>\n",
       "<table border=\"1\" class=\"dataframe\">\n",
       "  <thead>\n",
       "    <tr style=\"text-align: right;\">\n",
       "      <th></th>\n",
       "      <th>married</th>\n",
       "      <th>hourly_wage</th>\n",
       "      <th>years_in_education</th>\n",
       "      <th>years_in_employment</th>\n",
       "      <th>num_dependents</th>\n",
       "      <th>gender</th>\n",
       "      <th>race</th>\n",
       "    </tr>\n",
       "  </thead>\n",
       "  <tbody>\n",
       "    <tr>\n",
       "      <th>0</th>\n",
       "      <td>1.0</td>\n",
       "      <td>3.24</td>\n",
       "      <td>12.0</td>\n",
       "      <td>2.0</td>\n",
       "      <td>3.0</td>\n",
       "      <td>female</td>\n",
       "      <td>white</td>\n",
       "    </tr>\n",
       "    <tr>\n",
       "      <th>1</th>\n",
       "      <td>0.0</td>\n",
       "      <td>3.00</td>\n",
       "      <td>11.0</td>\n",
       "      <td>0.0</td>\n",
       "      <td>2.0</td>\n",
       "      <td>male</td>\n",
       "      <td>white</td>\n",
       "    </tr>\n",
       "    <tr>\n",
       "      <th>2</th>\n",
       "      <td>1.0</td>\n",
       "      <td>6.00</td>\n",
       "      <td>8.0</td>\n",
       "      <td>28.0</td>\n",
       "      <td>0.0</td>\n",
       "      <td>male</td>\n",
       "      <td>white</td>\n",
       "    </tr>\n",
       "    <tr>\n",
       "      <th>3</th>\n",
       "      <td>1.0</td>\n",
       "      <td>5.30</td>\n",
       "      <td>12.0</td>\n",
       "      <td>2.0</td>\n",
       "      <td>1.0</td>\n",
       "      <td>male</td>\n",
       "      <td>white</td>\n",
       "    </tr>\n",
       "    <tr>\n",
       "      <th>4</th>\n",
       "      <td>1.0</td>\n",
       "      <td>8.75</td>\n",
       "      <td>16.0</td>\n",
       "      <td>8.0</td>\n",
       "      <td>0.0</td>\n",
       "      <td>male</td>\n",
       "      <td>white</td>\n",
       "    </tr>\n",
       "    <tr>\n",
       "      <th>5</th>\n",
       "      <td>0.0</td>\n",
       "      <td>11.25</td>\n",
       "      <td>18.0</td>\n",
       "      <td>7.0</td>\n",
       "      <td>0.0</td>\n",
       "      <td>male</td>\n",
       "      <td>white</td>\n",
       "    </tr>\n",
       "    <tr>\n",
       "      <th>6</th>\n",
       "      <td>0.0</td>\n",
       "      <td>5.00</td>\n",
       "      <td>12.0</td>\n",
       "      <td>3.0</td>\n",
       "      <td>0.0</td>\n",
       "      <td>female</td>\n",
       "      <td>white</td>\n",
       "    </tr>\n",
       "    <tr>\n",
       "      <th>7</th>\n",
       "      <td>0.0</td>\n",
       "      <td>3.60</td>\n",
       "      <td>12.0</td>\n",
       "      <td>4.0</td>\n",
       "      <td>2.0</td>\n",
       "      <td>female</td>\n",
       "      <td>white</td>\n",
       "    </tr>\n",
       "    <tr>\n",
       "      <th>9</th>\n",
       "      <td>0.0</td>\n",
       "      <td>6.25</td>\n",
       "      <td>16.0</td>\n",
       "      <td>2.0</td>\n",
       "      <td>0.0</td>\n",
       "      <td>female</td>\n",
       "      <td>white</td>\n",
       "    </tr>\n",
       "    <tr>\n",
       "      <th>10</th>\n",
       "      <td>0.0</td>\n",
       "      <td>8.13</td>\n",
       "      <td>13.0</td>\n",
       "      <td>0.0</td>\n",
       "      <td>0.0</td>\n",
       "      <td>female</td>\n",
       "      <td>white</td>\n",
       "    </tr>\n",
       "  </tbody>\n",
       "</table>\n",
       "</div>"
      ],
      "text/plain": [
       "    married  hourly_wage  years_in_education  years_in_employment  \\\n",
       "0       1.0         3.24                12.0                  2.0   \n",
       "1       0.0         3.00                11.0                  0.0   \n",
       "2       1.0         6.00                 8.0                 28.0   \n",
       "3       1.0         5.30                12.0                  2.0   \n",
       "4       1.0         8.75                16.0                  8.0   \n",
       "5       0.0        11.25                18.0                  7.0   \n",
       "6       0.0         5.00                12.0                  3.0   \n",
       "7       0.0         3.60                12.0                  4.0   \n",
       "9       0.0         6.25                16.0                  2.0   \n",
       "10      0.0         8.13                13.0                  0.0   \n",
       "\n",
       "    num_dependents  gender   race  \n",
       "0              3.0  female  white  \n",
       "1              2.0    male  white  \n",
       "2              0.0    male  white  \n",
       "3              1.0    male  white  \n",
       "4              0.0    male  white  \n",
       "5              0.0    male  white  \n",
       "6              0.0  female  white  \n",
       "7              2.0  female  white  \n",
       "9              0.0  female  white  \n",
       "10             0.0  female  white  "
      ]
     },
     "execution_count": 26,
     "metadata": {},
     "output_type": "execute_result"
    }
   ],
   "source": [
    "#generating the table using gender which is a categorical variable and grouping the data \n",
    "# a groupby function can be used to group using gender \n",
    "gender_data = wage_new.groupby(['gender'])\n",
    "gender_data.head()"
   ]
  },
  {
   "cell_type": "code",
   "execution_count": 27,
   "metadata": {},
   "outputs": [
    {
     "data": {
      "text/html": [
       "<div>\n",
       "<style scoped>\n",
       "    .dataframe tbody tr th:only-of-type {\n",
       "        vertical-align: middle;\n",
       "    }\n",
       "\n",
       "    .dataframe tbody tr th {\n",
       "        vertical-align: top;\n",
       "    }\n",
       "\n",
       "    .dataframe thead tr th {\n",
       "        text-align: left;\n",
       "    }\n",
       "\n",
       "    .dataframe thead tr:last-of-type th {\n",
       "        text-align: right;\n",
       "    }\n",
       "</style>\n",
       "<table border=\"1\" class=\"dataframe\">\n",
       "  <thead>\n",
       "    <tr>\n",
       "      <th></th>\n",
       "      <th colspan=\"8\" halign=\"left\">married</th>\n",
       "      <th colspan=\"2\" halign=\"left\">hourly_wage</th>\n",
       "      <th>...</th>\n",
       "      <th colspan=\"2\" halign=\"left\">years_in_employment</th>\n",
       "      <th colspan=\"8\" halign=\"left\">num_dependents</th>\n",
       "    </tr>\n",
       "    <tr>\n",
       "      <th></th>\n",
       "      <th>count</th>\n",
       "      <th>mean</th>\n",
       "      <th>std</th>\n",
       "      <th>min</th>\n",
       "      <th>25%</th>\n",
       "      <th>50%</th>\n",
       "      <th>75%</th>\n",
       "      <th>max</th>\n",
       "      <th>count</th>\n",
       "      <th>mean</th>\n",
       "      <th>...</th>\n",
       "      <th>75%</th>\n",
       "      <th>max</th>\n",
       "      <th>count</th>\n",
       "      <th>mean</th>\n",
       "      <th>std</th>\n",
       "      <th>min</th>\n",
       "      <th>25%</th>\n",
       "      <th>50%</th>\n",
       "      <th>75%</th>\n",
       "      <th>max</th>\n",
       "    </tr>\n",
       "    <tr>\n",
       "      <th>gender</th>\n",
       "      <th></th>\n",
       "      <th></th>\n",
       "      <th></th>\n",
       "      <th></th>\n",
       "      <th></th>\n",
       "      <th></th>\n",
       "      <th></th>\n",
       "      <th></th>\n",
       "      <th></th>\n",
       "      <th></th>\n",
       "      <th></th>\n",
       "      <th></th>\n",
       "      <th></th>\n",
       "      <th></th>\n",
       "      <th></th>\n",
       "      <th></th>\n",
       "      <th></th>\n",
       "      <th></th>\n",
       "      <th></th>\n",
       "      <th></th>\n",
       "      <th></th>\n",
       "    </tr>\n",
       "  </thead>\n",
       "  <tbody>\n",
       "    <tr>\n",
       "      <th>female</th>\n",
       "      <td>249.0</td>\n",
       "      <td>0.526104</td>\n",
       "      <td>0.500324</td>\n",
       "      <td>0.0</td>\n",
       "      <td>0.0</td>\n",
       "      <td>1.0</td>\n",
       "      <td>1.0</td>\n",
       "      <td>1.0</td>\n",
       "      <td>249.0</td>\n",
       "      <td>4.638419</td>\n",
       "      <td>...</td>\n",
       "      <td>5.0</td>\n",
       "      <td>34.0</td>\n",
       "      <td>249.0</td>\n",
       "      <td>1.064790</td>\n",
       "      <td>1.186212</td>\n",
       "      <td>0.0</td>\n",
       "      <td>0.0</td>\n",
       "      <td>1.0</td>\n",
       "      <td>2.0</td>\n",
       "      <td>5.0</td>\n",
       "    </tr>\n",
       "    <tr>\n",
       "      <th>male</th>\n",
       "      <td>276.0</td>\n",
       "      <td>0.688406</td>\n",
       "      <td>0.463986</td>\n",
       "      <td>0.0</td>\n",
       "      <td>0.0</td>\n",
       "      <td>1.0</td>\n",
       "      <td>1.0</td>\n",
       "      <td>1.0</td>\n",
       "      <td>276.0</td>\n",
       "      <td>7.071904</td>\n",
       "      <td>...</td>\n",
       "      <td>9.0</td>\n",
       "      <td>44.0</td>\n",
       "      <td>276.0</td>\n",
       "      <td>1.025683</td>\n",
       "      <td>1.311241</td>\n",
       "      <td>0.0</td>\n",
       "      <td>0.0</td>\n",
       "      <td>0.0</td>\n",
       "      <td>2.0</td>\n",
       "      <td>6.0</td>\n",
       "    </tr>\n",
       "  </tbody>\n",
       "</table>\n",
       "<p>2 rows × 40 columns</p>\n",
       "</div>"
      ],
      "text/plain": [
       "       married                                              hourly_wage  \\\n",
       "         count      mean       std  min  25%  50%  75%  max       count   \n",
       "gender                                                                    \n",
       "female   249.0  0.526104  0.500324  0.0  0.0  1.0  1.0  1.0       249.0   \n",
       "male     276.0  0.688406  0.463986  0.0  0.0  1.0  1.0  1.0       276.0   \n",
       "\n",
       "                  ... years_in_employment       num_dependents            \\\n",
       "            mean  ...                 75%   max          count      mean   \n",
       "gender            ...                                                      \n",
       "female  4.638419  ...                 5.0  34.0          249.0  1.064790   \n",
       "male    7.071904  ...                 9.0  44.0          276.0  1.025683   \n",
       "\n",
       "                                           \n",
       "             std  min  25%  50%  75%  max  \n",
       "gender                                     \n",
       "female  1.186212  0.0  0.0  1.0  2.0  5.0  \n",
       "male    1.311241  0.0  0.0  0.0  2.0  6.0  \n",
       "\n",
       "[2 rows x 40 columns]"
      ]
     },
     "execution_count": 27,
     "metadata": {},
     "output_type": "execute_result"
    }
   ],
   "source": [
    "#summarizing the information for each group by gender\n",
    "gender_data.describe()"
   ]
  },
  {
   "cell_type": "markdown",
   "metadata": {},
   "source": [
    "# Linear regression"
   ]
  },
  {
   "cell_type": "code",
   "execution_count": 28,
   "metadata": {},
   "outputs": [
    {
     "data": {
      "text/html": [
       "<div>\n",
       "<style scoped>\n",
       "    .dataframe tbody tr th:only-of-type {\n",
       "        vertical-align: middle;\n",
       "    }\n",
       "\n",
       "    .dataframe tbody tr th {\n",
       "        vertical-align: top;\n",
       "    }\n",
       "\n",
       "    .dataframe thead th {\n",
       "        text-align: right;\n",
       "    }\n",
       "</style>\n",
       "<table border=\"1\" class=\"dataframe\">\n",
       "  <thead>\n",
       "    <tr style=\"text-align: right;\">\n",
       "      <th></th>\n",
       "      <th>married</th>\n",
       "      <th>hourly_wage</th>\n",
       "      <th>years_in_education</th>\n",
       "      <th>years_in_employment</th>\n",
       "      <th>num_dependents</th>\n",
       "      <th>gender</th>\n",
       "      <th>race</th>\n",
       "    </tr>\n",
       "  </thead>\n",
       "  <tbody>\n",
       "    <tr>\n",
       "      <th>0</th>\n",
       "      <td>1</td>\n",
       "      <td>3.24</td>\n",
       "      <td>12.0</td>\n",
       "      <td>2.0</td>\n",
       "      <td>3.0</td>\n",
       "      <td>0</td>\n",
       "      <td>1</td>\n",
       "    </tr>\n",
       "    <tr>\n",
       "      <th>1</th>\n",
       "      <td>0</td>\n",
       "      <td>3.00</td>\n",
       "      <td>11.0</td>\n",
       "      <td>0.0</td>\n",
       "      <td>2.0</td>\n",
       "      <td>1</td>\n",
       "      <td>1</td>\n",
       "    </tr>\n",
       "    <tr>\n",
       "      <th>2</th>\n",
       "      <td>1</td>\n",
       "      <td>6.00</td>\n",
       "      <td>8.0</td>\n",
       "      <td>28.0</td>\n",
       "      <td>0.0</td>\n",
       "      <td>1</td>\n",
       "      <td>1</td>\n",
       "    </tr>\n",
       "    <tr>\n",
       "      <th>3</th>\n",
       "      <td>1</td>\n",
       "      <td>5.30</td>\n",
       "      <td>12.0</td>\n",
       "      <td>2.0</td>\n",
       "      <td>1.0</td>\n",
       "      <td>1</td>\n",
       "      <td>1</td>\n",
       "    </tr>\n",
       "    <tr>\n",
       "      <th>4</th>\n",
       "      <td>1</td>\n",
       "      <td>8.75</td>\n",
       "      <td>16.0</td>\n",
       "      <td>8.0</td>\n",
       "      <td>0.0</td>\n",
       "      <td>1</td>\n",
       "      <td>1</td>\n",
       "    </tr>\n",
       "  </tbody>\n",
       "</table>\n",
       "</div>"
      ],
      "text/plain": [
       "   married  hourly_wage  years_in_education  years_in_employment  \\\n",
       "0        1         3.24                12.0                  2.0   \n",
       "1        0         3.00                11.0                  0.0   \n",
       "2        1         6.00                 8.0                 28.0   \n",
       "3        1         5.30                12.0                  2.0   \n",
       "4        1         8.75                16.0                  8.0   \n",
       "\n",
       "   num_dependents  gender  race  \n",
       "0             3.0       0     1  \n",
       "1             2.0       1     1  \n",
       "2             0.0       1     1  \n",
       "3             1.0       1     1  \n",
       "4             0.0       1     1  "
      ]
     },
     "execution_count": 28,
     "metadata": {},
     "output_type": "execute_result"
    }
   ],
   "source": [
    "#label encoding is needed for categorical variables in order to use them in the model\n",
    "#label encoder codes the coategorial variable to the number of categories in that particular\n",
    "#variable. Here we hace encoded gender,race and married variable to 1 and 0.\n",
    "en = LabelEncoder()\n",
    "wage_new['gender'] = en.fit_transform(wage_new['gender'].astype('object'))\n",
    "wage_new['race'] = en.fit_transform(wage_new['race'].astype('object'))\n",
    "wage_new['married'] = en.fit_transform(wage_new['married'].astype('float'))\n",
    "wage_new.head()"
   ]
  },
  {
   "cell_type": "code",
   "execution_count": 29,
   "metadata": {},
   "outputs": [
    {
     "data": {
      "text/html": [
       "<table class=\"simpletable\">\n",
       "<caption>OLS Regression Results</caption>\n",
       "<tr>\n",
       "  <th>Dep. Variable:</th>       <td>hourly_wage</td>   <th>  R-squared:         </th> <td>   0.350</td>\n",
       "</tr>\n",
       "<tr>\n",
       "  <th>Model:</th>                   <td>OLS</td>       <th>  Adj. R-squared:    </th> <td>   0.342</td>\n",
       "</tr>\n",
       "<tr>\n",
       "  <th>Method:</th>             <td>Least Squares</td>  <th>  F-statistic:       </th> <td>   46.48</td>\n",
       "</tr>\n",
       "<tr>\n",
       "  <th>Date:</th>             <td>Fri, 25 Mar 2022</td> <th>  Prob (F-statistic):</th> <td>1.51e-45</td>\n",
       "</tr>\n",
       "<tr>\n",
       "  <th>Time:</th>                 <td>09:05:14</td>     <th>  Log-Likelihood:    </th> <td> -1314.1</td>\n",
       "</tr>\n",
       "<tr>\n",
       "  <th>No. Observations:</th>      <td>   525</td>      <th>  AIC:               </th> <td>   2642.</td>\n",
       "</tr>\n",
       "<tr>\n",
       "  <th>Df Residuals:</th>          <td>   518</td>      <th>  BIC:               </th> <td>   2672.</td>\n",
       "</tr>\n",
       "<tr>\n",
       "  <th>Df Model:</th>              <td>     6</td>      <th>                     </th>     <td> </td>   \n",
       "</tr>\n",
       "<tr>\n",
       "  <th>Covariance Type:</th>      <td>nonrobust</td>    <th>                     </th>     <td> </td>   \n",
       "</tr>\n",
       "</table>\n",
       "<table class=\"simpletable\">\n",
       "<tr>\n",
       "           <td></td>              <th>coef</th>     <th>std err</th>      <th>t</th>      <th>P>|t|</th>  <th>[0.025</th>    <th>0.975]</th>  \n",
       "</tr>\n",
       "<tr>\n",
       "  <th>Intercept</th>           <td>   -2.7680</td> <td>    0.760</td> <td>   -3.644</td> <td> 0.000</td> <td>   -4.260</td> <td>   -1.276</td>\n",
       "</tr>\n",
       "<tr>\n",
       "  <th>married</th>             <td>    0.7030</td> <td>    0.283</td> <td>    2.486</td> <td> 0.013</td> <td>    0.148</td> <td>    1.259</td>\n",
       "</tr>\n",
       "<tr>\n",
       "  <th>years_in_education</th>  <td>    0.5214</td> <td>    0.049</td> <td>   10.598</td> <td> 0.000</td> <td>    0.425</td> <td>    0.618</td>\n",
       "</tr>\n",
       "<tr>\n",
       "  <th>years_in_employment</th> <td>    0.1531</td> <td>    0.019</td> <td>    8.092</td> <td> 0.000</td> <td>    0.116</td> <td>    0.190</td>\n",
       "</tr>\n",
       "<tr>\n",
       "  <th>num_dependents</th>      <td>    0.0957</td> <td>    0.108</td> <td>    0.882</td> <td> 0.378</td> <td>   -0.117</td> <td>    0.309</td>\n",
       "</tr>\n",
       "<tr>\n",
       "  <th>gender</th>              <td>    1.6732</td> <td>    0.268</td> <td>    6.240</td> <td> 0.000</td> <td>    1.146</td> <td>    2.200</td>\n",
       "</tr>\n",
       "<tr>\n",
       "  <th>race</th>                <td>   -0.0665</td> <td>    0.431</td> <td>   -0.154</td> <td> 0.878</td> <td>   -0.914</td> <td>    0.781</td>\n",
       "</tr>\n",
       "</table>\n",
       "<table class=\"simpletable\">\n",
       "<tr>\n",
       "  <th>Omnibus:</th>       <td>206.380</td> <th>  Durbin-Watson:     </th> <td>   1.808</td> \n",
       "</tr>\n",
       "<tr>\n",
       "  <th>Prob(Omnibus):</th> <td> 0.000</td>  <th>  Jarque-Bera (JB):  </th> <td> 881.856</td> \n",
       "</tr>\n",
       "<tr>\n",
       "  <th>Skew:</th>          <td> 1.747</td>  <th>  Prob(JB):          </th> <td>3.22e-192</td>\n",
       "</tr>\n",
       "<tr>\n",
       "  <th>Kurtosis:</th>      <td> 8.302</td>  <th>  Cond. No.          </th> <td>    86.9</td> \n",
       "</tr>\n",
       "</table><br/><br/>Notes:<br/>[1] Standard Errors assume that the covariance matrix of the errors is correctly specified."
      ],
      "text/plain": [
       "<class 'statsmodels.iolib.summary.Summary'>\n",
       "\"\"\"\n",
       "                            OLS Regression Results                            \n",
       "==============================================================================\n",
       "Dep. Variable:            hourly_wage   R-squared:                       0.350\n",
       "Model:                            OLS   Adj. R-squared:                  0.342\n",
       "Method:                 Least Squares   F-statistic:                     46.48\n",
       "Date:                Fri, 25 Mar 2022   Prob (F-statistic):           1.51e-45\n",
       "Time:                        09:05:14   Log-Likelihood:                -1314.1\n",
       "No. Observations:                 525   AIC:                             2642.\n",
       "Df Residuals:                     518   BIC:                             2672.\n",
       "Df Model:                           6                                         \n",
       "Covariance Type:            nonrobust                                         \n",
       "=======================================================================================\n",
       "                          coef    std err          t      P>|t|      [0.025      0.975]\n",
       "---------------------------------------------------------------------------------------\n",
       "Intercept              -2.7680      0.760     -3.644      0.000      -4.260      -1.276\n",
       "married                 0.7030      0.283      2.486      0.013       0.148       1.259\n",
       "years_in_education      0.5214      0.049     10.598      0.000       0.425       0.618\n",
       "years_in_employment     0.1531      0.019      8.092      0.000       0.116       0.190\n",
       "num_dependents          0.0957      0.108      0.882      0.378      -0.117       0.309\n",
       "gender                  1.6732      0.268      6.240      0.000       1.146       2.200\n",
       "race                   -0.0665      0.431     -0.154      0.878      -0.914       0.781\n",
       "==============================================================================\n",
       "Omnibus:                      206.380   Durbin-Watson:                   1.808\n",
       "Prob(Omnibus):                  0.000   Jarque-Bera (JB):              881.856\n",
       "Skew:                           1.747   Prob(JB):                    3.22e-192\n",
       "Kurtosis:                       8.302   Cond. No.                         86.9\n",
       "==============================================================================\n",
       "\n",
       "Notes:\n",
       "[1] Standard Errors assume that the covariance matrix of the errors is correctly specified.\n",
       "\"\"\""
      ]
     },
     "execution_count": 29,
     "metadata": {},
     "output_type": "execute_result"
    }
   ],
   "source": [
    "#A linear regression model is a statistical process to determine the relation between \n",
    "#dependent and independent variable.Here the dependent variable is hourly wage and married,\n",
    "#years in education,years in employment,number of dependents,gender, race are independent variables\n",
    "#carring out linear regression model using all the variables in the dataframe\n",
    "wage_model1 = st.OLS.from_formula(\"hourly_wage ~ married + years_in_education + years_in_employment + num_dependents + gender + race\", data = wage_new).fit()\n",
    "wage_model1.summary()"
   ]
  },
  {
   "cell_type": "markdown",
   "metadata": {},
   "source": [
    "This is not a good model as r-square and adjusted r-square is 0.3, so the model is not at all perfect. We see that that there are two variables that are insignificant i.e. They have p>0.05, so we need to remove the variables in order to make our model parsimonious. The two variables that have p>0.05 do not contribute to the model."
   ]
  },
  {
   "cell_type": "code",
   "execution_count": 30,
   "metadata": {},
   "outputs": [
    {
     "data": {
      "text/html": [
       "<table class=\"simpletable\">\n",
       "<caption>OLS Regression Results</caption>\n",
       "<tr>\n",
       "  <th>Dep. Variable:</th>       <td>hourly_wage</td>   <th>  R-squared:         </th> <td>   0.349</td>\n",
       "</tr>\n",
       "<tr>\n",
       "  <th>Model:</th>                   <td>OLS</td>       <th>  Adj. R-squared:    </th> <td>   0.344</td>\n",
       "</tr>\n",
       "<tr>\n",
       "  <th>Method:</th>             <td>Least Squares</td>  <th>  F-statistic:       </th> <td>   69.67</td>\n",
       "</tr>\n",
       "<tr>\n",
       "  <th>Date:</th>             <td>Fri, 25 Mar 2022</td> <th>  Prob (F-statistic):</th> <td>3.22e-47</td>\n",
       "</tr>\n",
       "<tr>\n",
       "  <th>Time:</th>                 <td>09:05:14</td>     <th>  Log-Likelihood:    </th> <td> -1314.5</td>\n",
       "</tr>\n",
       "<tr>\n",
       "  <th>No. Observations:</th>      <td>   525</td>      <th>  AIC:               </th> <td>   2639.</td>\n",
       "</tr>\n",
       "<tr>\n",
       "  <th>Df Residuals:</th>          <td>   520</td>      <th>  BIC:               </th> <td>   2660.</td>\n",
       "</tr>\n",
       "<tr>\n",
       "  <th>Df Model:</th>              <td>     4</td>      <th>                     </th>     <td> </td>   \n",
       "</tr>\n",
       "<tr>\n",
       "  <th>Covariance Type:</th>      <td>nonrobust</td>    <th>                     </th>     <td> </td>   \n",
       "</tr>\n",
       "</table>\n",
       "<table class=\"simpletable\">\n",
       "<tr>\n",
       "           <td></td>              <th>coef</th>     <th>std err</th>      <th>t</th>      <th>P>|t|</th>  <th>[0.025</th>    <th>0.975]</th>  \n",
       "</tr>\n",
       "<tr>\n",
       "  <th>Intercept</th>           <td>   -2.6107</td> <td>    0.631</td> <td>   -4.139</td> <td> 0.000</td> <td>   -3.850</td> <td>   -1.372</td>\n",
       "</tr>\n",
       "<tr>\n",
       "  <th>married</th>             <td>    0.7447</td> <td>    0.277</td> <td>    2.688</td> <td> 0.007</td> <td>    0.200</td> <td>    1.289</td>\n",
       "</tr>\n",
       "<tr>\n",
       "  <th>years_in_education</th>  <td>    0.5106</td> <td>    0.048</td> <td>   10.709</td> <td> 0.000</td> <td>    0.417</td> <td>    0.604</td>\n",
       "</tr>\n",
       "<tr>\n",
       "  <th>years_in_employment</th> <td>    0.1520</td> <td>    0.019</td> <td>    8.064</td> <td> 0.000</td> <td>    0.115</td> <td>    0.189</td>\n",
       "</tr>\n",
       "<tr>\n",
       "  <th>gender</th>              <td>    1.6709</td> <td>    0.268</td> <td>    6.241</td> <td> 0.000</td> <td>    1.145</td> <td>    2.197</td>\n",
       "</tr>\n",
       "</table>\n",
       "<table class=\"simpletable\">\n",
       "<tr>\n",
       "  <th>Omnibus:</th>       <td>206.433</td> <th>  Durbin-Watson:     </th> <td>   1.813</td> \n",
       "</tr>\n",
       "<tr>\n",
       "  <th>Prob(Omnibus):</th> <td> 0.000</td>  <th>  Jarque-Bera (JB):  </th> <td> 883.570</td> \n",
       "</tr>\n",
       "<tr>\n",
       "  <th>Skew:</th>          <td> 1.746</td>  <th>  Prob(JB):          </th> <td>1.37e-192</td>\n",
       "</tr>\n",
       "<tr>\n",
       "  <th>Kurtosis:</th>      <td> 8.310</td>  <th>  Cond. No.          </th> <td>    69.2</td> \n",
       "</tr>\n",
       "</table><br/><br/>Notes:<br/>[1] Standard Errors assume that the covariance matrix of the errors is correctly specified."
      ],
      "text/plain": [
       "<class 'statsmodels.iolib.summary.Summary'>\n",
       "\"\"\"\n",
       "                            OLS Regression Results                            \n",
       "==============================================================================\n",
       "Dep. Variable:            hourly_wage   R-squared:                       0.349\n",
       "Model:                            OLS   Adj. R-squared:                  0.344\n",
       "Method:                 Least Squares   F-statistic:                     69.67\n",
       "Date:                Fri, 25 Mar 2022   Prob (F-statistic):           3.22e-47\n",
       "Time:                        09:05:14   Log-Likelihood:                -1314.5\n",
       "No. Observations:                 525   AIC:                             2639.\n",
       "Df Residuals:                     520   BIC:                             2660.\n",
       "Df Model:                           4                                         \n",
       "Covariance Type:            nonrobust                                         \n",
       "=======================================================================================\n",
       "                          coef    std err          t      P>|t|      [0.025      0.975]\n",
       "---------------------------------------------------------------------------------------\n",
       "Intercept              -2.6107      0.631     -4.139      0.000      -3.850      -1.372\n",
       "married                 0.7447      0.277      2.688      0.007       0.200       1.289\n",
       "years_in_education      0.5106      0.048     10.709      0.000       0.417       0.604\n",
       "years_in_employment     0.1520      0.019      8.064      0.000       0.115       0.189\n",
       "gender                  1.6709      0.268      6.241      0.000       1.145       2.197\n",
       "==============================================================================\n",
       "Omnibus:                      206.433   Durbin-Watson:                   1.813\n",
       "Prob(Omnibus):                  0.000   Jarque-Bera (JB):              883.570\n",
       "Skew:                           1.746   Prob(JB):                    1.37e-192\n",
       "Kurtosis:                       8.310   Cond. No.                         69.2\n",
       "==============================================================================\n",
       "\n",
       "Notes:\n",
       "[1] Standard Errors assume that the covariance matrix of the errors is correctly specified.\n",
       "\"\"\""
      ]
     },
     "execution_count": 30,
     "metadata": {},
     "output_type": "execute_result"
    }
   ],
   "source": [
    "#We are creating another model and will try to get a model in which the variables have p less that 0.05\n",
    "wage_model2 = st.OLS.from_formula(\"hourly_wage ~ married + years_in_education + years_in_employment + gender \", data = wage_new).fit()\n",
    "wage_model2.summary()"
   ]
  },
  {
   "cell_type": "markdown",
   "metadata": {},
   "source": [
    "After many tries and  removal of race and num_dependents variable we get a parisimonious model i.e. all the variables are significant.\n",
    "There are 4 variables that contribute to the model.Hence we have created a relation between independent and dependent varibale. The relationship has been created by multiplying the coeffients with the variables form the summary table abd adding the intercept.\n",
    "\n",
    "𝐻𝑜𝑢𝑟𝑙𝑦𝑊𝑎𝑔𝑒=−2.6107+0.7447∗𝑚𝑎𝑟𝑟𝑖𝑒𝑑+0.5106∗𝑌𝑒𝑎𝑟𝑠𝐼𝑛𝐸𝑑𝑢𝑐𝑎𝑡𝑖𝑜𝑛+0.1520∗𝑌𝑒𝑎𝑟𝑠𝐼𝑛𝐸𝑚𝑝𝑙𝑜𝑦𝑚𝑒𝑛𝑡+1.6709∗𝑔𝑒𝑛𝑑𝑒𝑟+𝑒\n",
    "\n",
    "The above equation can be used to predict the hourly wage.The signs of coefficient has a positive effect on the hourly wage.\n",
    "The r-square and adjusted r square is 0.3 which is very low and is far from perfect.The variability in hourly wage is only 34%.Multiple variables can make a model look more reliable, even if they aren't contributing much. Because the adjusted R-squared penalises the R-squared formula depending on the number of variables, a lesser adjusted score may indicate that some variables are not correctly contributing to the model's R-squared."
   ]
  },
  {
   "cell_type": "code",
   "execution_count": 31,
   "metadata": {},
   "outputs": [
    {
     "data": {
      "text/html": [
       "\n",
       "\n",
       "\n",
       "\n",
       "\n",
       "\n",
       "  <div class=\"bk-root\" id=\"e21eb4be-f79e-40c9-9e67-0f92a1bcb5a3\" data-root-id=\"1002\"></div>\n"
      ]
     },
     "metadata": {},
     "output_type": "display_data"
    },
    {
     "data": {
      "application/javascript": [
       "(function(root) {\n",
       "  function embed_document(root) {\n",
       "    \n",
       "  var docs_json = {\"1c6b94f8-f4cd-4a15-afee-dd786bbbbe33\":{\"roots\":{\"references\":[{\"attributes\":{\"below\":[{\"id\":\"1011\"}],\"center\":[{\"id\":\"1014\"},{\"id\":\"1018\"}],\"left\":[{\"id\":\"1015\"}],\"plot_height\":400,\"plot_width\":400,\"renderers\":[{\"id\":\"1036\"}],\"title\":{\"id\":\"1038\"},\"toolbar\":{\"id\":\"1026\"},\"x_range\":{\"id\":\"1003\"},\"x_scale\":{\"id\":\"1007\"},\"y_range\":{\"id\":\"1005\"},\"y_scale\":{\"id\":\"1009\"}},\"id\":\"1002\",\"subtype\":\"Figure\",\"type\":\"Plot\"},{\"attributes\":{},\"id\":\"1045\",\"type\":\"UnionRenderers\"},{\"attributes\":{},\"id\":\"1024\",\"type\":\"HelpTool\"},{\"attributes\":{\"formatter\":{\"id\":\"1043\"},\"ticker\":{\"id\":\"1016\"}},\"id\":\"1015\",\"type\":\"LinearAxis\"},{\"attributes\":{},\"id\":\"1009\",\"type\":\"LinearScale\"},{\"attributes\":{\"axis\":{\"id\":\"1015\"},\"dimension\":1,\"ticker\":null},\"id\":\"1018\",\"type\":\"Grid\"},{\"attributes\":{\"fill_color\":{\"value\":\"#1f77b4\"},\"line_color\":{\"value\":\"#1f77b4\"},\"x\":{\"field\":\"x\"},\"y\":{\"field\":\"y\"}},\"id\":\"1034\",\"type\":\"Circle\"},{\"attributes\":{},\"id\":\"1016\",\"type\":\"BasicTicker\"},{\"attributes\":{\"data\":{\"x\":{\"__ndarray__\":\"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\",\"dtype\":\"float64\",\"order\":\"little\",\"shape\":[525]},\"y\":{\"__ndarray__\":\"OVEuPrSc3L+wTohysyDiv53ar8tqYue/9hPFKbM01L/m6OZJMgPDv7sPs1zi/uQ/feZ0DVIx1j/E+Bg8MKTGv1sYl4QUpwFA2+v16sXCwD9HtOs5NCf2P7QkxBKbpu4/wYSea0rBqL9l1wjQIeISQA5IZCiDSAlAWdev79N98T9pay5ZHXv7P54sllxrj8y/2r/aKsANzb/es3YZXMHtP4tYbpfdtsg/P0Ku1W7Wyb9aXKURMvHwv6AWwVCrN+M/9oWmzdFo2D9UTQLzAoTiv818v3j0dfg/OHTeJyo0+z97pKc92QrTP7ANSeZ1hfw/LREUEqk60b8PPC3PmnbxP33mdA1SMdY/I7gDBODt6T8CA0u2gI7sv8rGABR7GNU/MYEn4fbmyr85/FcNO5Htv8aJuL5QhO0/WFd9Pmcq8z85xgNErN/6Pyyqc2mD5uC/iXk3WJQC4b/qUUT6ddjiPwHepr5oAvc/1ZFcLpwA678HmEXtM6fhv6aZ9IAd7+6/WFZ+pbpW4L+vwvSjRV7kv9Hi6vhUnO0/TnskB9hA4r/RWu/063vVvxZMaMteC+2/5nQu6BbC8r+x6lsCov7ov909IBIskwJAzAk0hO7FEkCvNCVeAdfuvxyNQ3k6+Ni/Hg+NrWtL/T9zNKSy68bSP4QkUAnaqcI/AZJ2b54c2D9WkXWurNYJQKSDaUQamcy/odo2Frp98z/YUZs65lTwv30mZdMzp+O/47dDPLsvqj/nNsJ+BTT3P5pys5PFI+i/ij9zwajjAcBCwbzxahTGv7lXFTgfzOs/+3FPf9SOtr9eIM/WeIvIv0Coo8RHa8c/NryiliAZ5L/kg6bthIrMv7iNl0oVj+2/a3J1SMR+wT+enJNrJT3PPzE7s307qru/VbLvak5137/laPMqNtfVv5Q+kl6a7PQ/QKOjIeol6T9DTtaz4cHFP4asBJnlJdS/DUVyUnqs2L+QY3+xSk3Gv+xUl8G+79s/VFqhAcqS7j+RcxeghTPYP4db8gPhwOe/BdqggYUK9T9DviJtvDrwv0ZP7i+EPOK/Vg9p2jlRzr9CwbzxahTGv6dQea0NH+G/54mtTDzt8j8UDQ/Pb9UCQLyt+tf1+8k/m6X2zMPk/j9xaCgLhJSJvzlugZL9TNW/KiAiscN03D+/zcadW+r0vw39GZxwTRRAvqVs+8ZS1b/oMuLVLjbSvwEex1KABPO/l65ZG54Bwr9OfefFxUDjv31dYKOvAOS/7gj++RCb9L/gHbuTP5PWvwr75xQyet+/+Od1XAwvzL8n+F7KJxz0v1Ek24jeU7u/j5qukm7+/b/axqHw8Hu8v3WO0sr5RuM/oCmj3DYDAcBGyZ2Dt2+hP7+b7I4kxsi/wAPvvN4Cx789vLVxQZfiv9KK+KHzruu/VwMzJw9Hor8VTOPUj+7ev2UaQcXwWNu/0R9kCntF7b+nzxlmQ/XgPw98BirwxtQ/wBG9Wjt18D83PaTiPxeWv5/kLN8wQeU/59s0q6211j8VRujjuRPXP5qFPSP40mo/sELsblJC578gjKrTvGbFv+pZKEF83L+/wV+2lztB+D9YIqyJwYTYvxYDds+8ntu/IqAfEpsR3796u+R9tmPLvzMyjK687t8/r60+Om8bz78sxfU7xazoPytq0UF6EN2/2sE5XVia4j94Pg023P+tPy6vtXpVdeW/EvkFGGDo3L+U+i1Ydm/LP0xaVJ89NdE/6lkoQXzcv79zMEOU/8zkP8N8+aQMvu+/63nyBHP1rz8MgX6BQwbPPz8tnVQAHsO/SbphFEsb/z++C3iS59ECQPB9ezZkWANAdHjkxzHtxr8E10eG1J3qv/5X7qe+7O4/4FLomgWJyT+/tQw99nn1P0MyFXo7Ueo/jmTTiS1twT/nJqsiWODkv3j+KTIpY8Q/ZshvN0ngzD/s59s8VBXqP2pbAvJJINq/eSTDFZtDsL/vSJ7MmjkSQPzjeaEFGeA/FRWmvfrA9L/XXKXpWCfQv/M49c4T2t2/udr+/+AO4r/ZBNTUUerlv9nSHIWwSva/fqEimd0Vwz9Xs070s4ygv3M68x0BVsc/W2TFAGd75T8/daDKQ2DuPzeysEOu59Y/DjTgdBhf9T+uK1fZ1fnkv8iyn4TsUto/IB8qmVKNAECHu21ATiDvvwjt/YO2Pdu/44Sc0CQUyz8fLEh77tTnv9zbKZG7CuM/FeSspquG0T9X20CzrPDOPyZEzjjZEeG/55KzluQW+r8Odl5QFkDXP6V+wMWaxK6/qoDBiw3S8L/ikmQO/wfrv6kcCn3fQvI/sAyQipsN+r+Vl1SineXYv3/ZNy6L3tw/h6R6uwTJvj/Bzk1t35zgv+1N+VMndtW/KuriiiaO3b9pfyWx0aPiv4LsFhpjgcI/IdyhDwJmyz+UE3rvGfXVP4rs5LTiqBJAzE3PMQh87z8W6pQHbcXwv7BOiHKzIOK/RQo9ZvEt5b9bj910CBDAPz872q2u9/U/rk2rffGj579hsOLs8YXxv3nOzNY68OS/6cvZEvqlvD+F6uyp1cHJv1mCJ+qJXOW/Qu1+o+yn479l7Dy3I4jZv+zd0UKFp+i/qseiDBqhCEBmAlsaxJx2vypwrIX/rua/q+WYEk034L9RXjMa+7TQP9UyBqTNOtm/xdIg/2v+wL8kUkraHem+P/LZAFOqN60/+QDADNUQ678bDihC9KHUP8l5zB80POg/VqzPLPOK2b9RwqJUgMvuv6yWqPE+pNe/Y/IYi+b1DkC7oWLELarZv65Nq33xo+e/FPszgGu4zr88B8TMkITev5oRsrVMcvW/F4CnC05Cxj87rqyu3rXXvyNDBzi4wsa/NNb1Zeh6zb/CpETHAGzBv2FhFLcgEME/G7EL27KE67+virUKUVLZv0xu5ZL2l+C/hOY40YL10T9Z43izRzv0v4l+c1N5Q/W/os4xZxL7A0BspD7y1nahP2F2C0ioLeO/sL6pgCUMqr+RMcwhXJD4v3NxbYXAbfI/41+MGODA2b9CwbzxahTGvwO1SkWmre+/lpfUHFTO4D9fdyInQs/GPwqBrKCY7OG/XPQqJCpv6b+hupFwv0Tuv2l5e91PWte/HdVq5TBM1r8Q9Xv0uCi4P8KEXSSxUfC/XY6otKAZ6r9PxIaxAI/zv559JsadeK0/V42CsvqYuj8xrdRpXmLsvykx0TY54ti/nRrzirmz3D/xvFGpudnZvyLSvnZjmdG/aS6cYA1o1r/sLq332irZP563LZWfLfW/NijCtVdwsD8mBsXLYGvkP4r9T/uCDta/L7CTuQjEtD/UZB+eXi3nvzhRZ+WlbOW/2Ual6pN5uz/BKWeX9kb0v8+08CC20em/IquQ5n4Z1r9INn/mT1rHvx7+WUmTKt8//IGcrPqI7b/7cU9/1I62v1hWfqW6VuC/Oe861nMkxL8SsT7YiJrrP32ylrwjLPM/Fa8w33UpAEC2FJEpMi3hv/1k5QRMr5U/vzjx58U6mT8J0Zd8dNzpP1e75YynR9O/Ux6ToL+0w79sr4BX6Y3gv+mnY0GAt98/vz2NGdm+3r/daSkQ++bev868VaCj0bQ/v2LHyAmftj9oyZ08olr5PxVM49SP7t6/jrJaEPgM7r96obi9+3zmv47NgTNpjfo/pHj7GLki6L/3XckZluTjv3AHqxVMxem/m25eOx4l6b9DGyVWzArRP6XUxQQrX+G/0R9kCntF7b/k4zP1pbzpv9fCKpmFZPU/BGUDoBH14L/LDmXGJ8TUPw5DHvO6UPQ/3MbUgrGknb9U2lSdXzTVv1YeG7K8eeW/PAOsdbGCxL9bXBUfvMfovzZenJnUPt2/ECzVECDI1r/S1dlvLH7qv3C/0Nhobeu/EW8acFBh5r/v3EUDJkzPv0NavrspMADA/0xyB2aN4L8umveelPvwvwxEiLz1fr4/JwY747Cp7L9LGb9oMQXIPxivBEkupbQ/m0aXKV1p5L+7XtacBRfQv35zi//Yl+u/Ul+DLIYfzL+be+LgczztPxw2ylSH+Pw/Mbqy2rgb57/zXtQ0RGz9P3fzsV9Rj/S/Tgmn0PGp3T9MIajeTFjqv8G15H5VQau/NdHW8hfZ5z+Rkjz/zknLv96qLG65JOy/uyf8RFk9zb+ywW1kCejsvyf4XsonHPS/y1huowvA5r8wRlP6/L3iv2YZJXd7QcI/TBZuYda07T8ztKC4msnhP9L/YC9Yuuw/Hu7UaJeC9L+hQ4tTDM/2PyRzXf7uTdM/pwjKKNnTzj9OAe9WiR7hv4iUoSGvf9m/FoOUsQBlvb8cZzLAUb71P2HqQAr2G/Y/EaPZHDs61D/wizXn6k+vP0jX1yZI6b6/FpjXUtq8wj9/sQowQ0LgP2ATDGAuRNi/I4a3ugzR7b8GWGGTtVvlv+ZzRty9Lda/VwMzJw9Hor+XvIjIntq7v7AxiW5+eOC/0WJtYmxl3L8h5beSNTDbP3a+XGlcyNM/bUTjU0Sd7L+Wsop4Q/HcPxqMoidP7t+/fjSMXbVByz85/FcNO5Htv9/8RMfqvds/UVCzJX2hwD8EWcQB14Ttv13h3op+zbY/+tr8o+ll1z/S1dlvLH7qv3TX33DsJsc/2i+/nEUMyr+903W5Uh/NP6Q1tVx7WfY/pTsFd5Sk0b/BuWkF0PXpv327m6e2Zt2/KcD0YKonEkAYrqS994PWv2YCWxrEnHa/fyTygK5Qwb/hVuabWXn4P8pfIQ5qc+G/FPszgGu4zr+nCmEHixz4v/XMrUxS+fq/BU3d4lrP8D9uG0JboLzWPwjt/YO2Pdu/qMf4qxChyL913AoZ+nTvv/0Q4GAD1sg/4/ErHjkhrD9XAzMnD0eiv3IokUy1fPq/EKZYa8nm/b/L5xl4S5+Cv9ZPEMVnltS/x5ZKk5ns7b8i0r52Y5nRv3aft9VTnea/4Rc2MQua9L8WNYROmazov9wEyhJSsuC/ZfDFmx0K7L8ZFn18ZxzSv28enNAz8tg/7C6t99oq2T83kVg+VpnQv5+9dO33cNa/9iTd3qzn8L9oefxI5e9fv2gDCyz0auS/RsCEILnFAECUsGqiaJviP2wM4Q/VDLG/U1F7DOST8z/laPMqNtfVv9JJ0VGmts2/FUzj1I/u3r/0VPOQ5vTiv4Eq1RGzgJy/WFZ+pbpW4L9WDjNBcWLWv9tPUpdC5+a/Z7rpD/+m9D8Bu08ZqOGRPwFYNb1Xl9C/vJI0oNGfyb8QyXoUTCT0vw4AHilkVce/d3EWAFZ98j+cHqOeOWbPv0zF9Mk4ieu/7Vw2v6iK1T/lbv72zaDzv+jDd3xNs9m/KK37B3kWyD/fmvj7S9/Tv8MW/B7Fo/C/pQ1s/3Y7+j/3sXiypRXoP6INWr72DwlAIKW5s6WN578ULMoGNtvWv00ApR8VesA/9uhq2FBlxL+TOG5jYdbgvy/onCgU3cy/iIejIM9F5r8DTlVhBAL6P86F3k1K+NW/zMGmxMyq5z8ui2Im6ZPuv73B48kTaui/K0uN/pxwzj/SCVtbOnDRP1QcLGGp6eO/JUHG3+AAxD8dPdql7q8GQIR/2/z4drO/ICSPv3Dp/b/oE+5I243yP6j0O8K3r9A/\",\"dtype\":\"float64\",\"order\":\"little\",\"shape\":[525]}},\"selected\":{\"id\":\"1044\"},\"selection_policy\":{\"id\":\"1045\"}},\"id\":\"1033\",\"type\":\"ColumnDataSource\"},{\"attributes\":{},\"id\":\"1020\",\"type\":\"WheelZoomTool\"},{\"attributes\":{\"active_drag\":\"auto\",\"active_inspect\":\"auto\",\"active_multi\":null,\"active_scroll\":\"auto\",\"active_tap\":\"auto\",\"tools\":[{\"id\":\"1019\"},{\"id\":\"1020\"},{\"id\":\"1021\"},{\"id\":\"1022\"},{\"id\":\"1023\"},{\"id\":\"1024\"}]},\"id\":\"1026\",\"type\":\"Toolbar\"},{\"attributes\":{},\"id\":\"1019\",\"type\":\"PanTool\"},{\"attributes\":{\"overlay\":{\"id\":\"1025\"}},\"id\":\"1021\",\"type\":\"BoxZoomTool\"},{\"attributes\":{},\"id\":\"1022\",\"type\":\"SaveTool\"},{\"attributes\":{},\"id\":\"1023\",\"type\":\"ResetTool\"},{\"attributes\":{\"fill_alpha\":{\"value\":0.1},\"fill_color\":{\"value\":\"#1f77b4\"},\"line_alpha\":{\"value\":0.1},\"line_color\":{\"value\":\"#1f77b4\"},\"x\":{\"field\":\"x\"},\"y\":{\"field\":\"y\"}},\"id\":\"1035\",\"type\":\"Circle\"},{\"attributes\":{\"source\":{\"id\":\"1033\"}},\"id\":\"1037\",\"type\":\"CDSView\"},{\"attributes\":{},\"id\":\"1041\",\"type\":\"BasicTickFormatter\"},{\"attributes\":{},\"id\":\"1044\",\"type\":\"Selection\"},{\"attributes\":{\"axis\":{\"id\":\"1011\"},\"ticker\":null},\"id\":\"1014\",\"type\":\"Grid\"},{\"attributes\":{\"data_source\":{\"id\":\"1033\"},\"glyph\":{\"id\":\"1034\"},\"hover_glyph\":null,\"muted_glyph\":null,\"nonselection_glyph\":{\"id\":\"1035\"},\"selection_glyph\":null,\"view\":{\"id\":\"1037\"}},\"id\":\"1036\",\"type\":\"GlyphRenderer\"},{\"attributes\":{},\"id\":\"1005\",\"type\":\"DataRange1d\"},{\"attributes\":{},\"id\":\"1043\",\"type\":\"BasicTickFormatter\"},{\"attributes\":{\"text\":\"\"},\"id\":\"1038\",\"type\":\"Title\"},{\"attributes\":{},\"id\":\"1003\",\"type\":\"DataRange1d\"},{\"attributes\":{},\"id\":\"1007\",\"type\":\"LinearScale\"},{\"attributes\":{\"bottom_units\":\"screen\",\"fill_alpha\":0.5,\"fill_color\":\"lightgrey\",\"left_units\":\"screen\",\"level\":\"overlay\",\"line_alpha\":1.0,\"line_color\":\"black\",\"line_dash\":[4,4],\"line_width\":2,\"right_units\":\"screen\",\"top_units\":\"screen\"},\"id\":\"1025\",\"type\":\"BoxAnnotation\"},{\"attributes\":{},\"id\":\"1012\",\"type\":\"BasicTicker\"},{\"attributes\":{\"formatter\":{\"id\":\"1041\"},\"ticker\":{\"id\":\"1012\"}},\"id\":\"1011\",\"type\":\"LinearAxis\"}],\"root_ids\":[\"1002\"]},\"title\":\"Bokeh Application\",\"version\":\"2.2.3\"}};\n",
       "  var render_items = [{\"docid\":\"1c6b94f8-f4cd-4a15-afee-dd786bbbbe33\",\"root_ids\":[\"1002\"],\"roots\":{\"1002\":\"e21eb4be-f79e-40c9-9e67-0f92a1bcb5a3\"}}];\n",
       "  root.Bokeh.embed.embed_items_notebook(docs_json, render_items);\n",
       "\n",
       "  }\n",
       "  if (root.Bokeh !== undefined) {\n",
       "    embed_document(root);\n",
       "  } else {\n",
       "    var attempts = 0;\n",
       "    var timer = setInterval(function(root) {\n",
       "      if (root.Bokeh !== undefined) {\n",
       "        clearInterval(timer);\n",
       "        embed_document(root);\n",
       "      } else {\n",
       "        attempts++;\n",
       "        if (attempts > 100) {\n",
       "          clearInterval(timer);\n",
       "          console.log(\"Bokeh: ERROR: Unable to run BokehJS code because BokehJS library is missing\");\n",
       "        }\n",
       "      }\n",
       "    }, 10, root)\n",
       "  }\n",
       "})(window);"
      ],
      "application/vnd.bokehjs_exec.v0+json": ""
     },
     "metadata": {
      "application/vnd.bokehjs_exec.v0+json": {
       "id": "1002"
      }
     },
     "output_type": "display_data"
    }
   ],
   "source": [
    "#plotting standardised residuals and fitted values for the dependent \n",
    "#variable on a scatter plot and we will try to see if the assumption hold valid or not \n",
    "#for the for the adequacy\n",
    "fig = figure(height=400, width=400)\n",
    "\n",
    "# the x axis is the fitted values\n",
    "# the y axis is the standardized residuals\n",
    "st_resids = wage_model2.get_influence().resid_studentized_internal\n",
    "fig.circle(wage_model2.fittedvalues, st_resids)\n",
    "\n",
    "show(fig)"
   ]
  },
  {
   "cell_type": "code",
   "execution_count": 32,
   "metadata": {},
   "outputs": [
    {
     "data": {
      "text/html": [
       "\n",
       "\n",
       "\n",
       "\n",
       "\n",
       "\n",
       "  <div class=\"bk-root\" id=\"9bd16758-33d1-4caf-9f61-0d88811cfc5b\" data-root-id=\"1092\"></div>\n"
      ]
     },
     "metadata": {},
     "output_type": "display_data"
    },
    {
     "data": {
      "application/javascript": [
       "(function(root) {\n",
       "  function embed_document(root) {\n",
       "    \n",
       "  var docs_json = {\"157dfb3a-f79e-4cd4-bc9a-55310aa318bc\":{\"roots\":{\"references\":[{\"attributes\":{\"below\":[{\"id\":\"1101\"}],\"center\":[{\"id\":\"1104\"},{\"id\":\"1108\"}],\"left\":[{\"id\":\"1105\"}],\"plot_height\":400,\"plot_width\":400,\"renderers\":[{\"id\":\"1126\"}],\"title\":{\"id\":\"1137\"},\"toolbar\":{\"id\":\"1116\"},\"x_range\":{\"id\":\"1093\"},\"x_scale\":{\"id\":\"1097\"},\"y_range\":{\"id\":\"1095\"},\"y_scale\":{\"id\":\"1099\"}},\"id\":\"1092\",\"subtype\":\"Figure\",\"type\":\"Plot\"},{\"attributes\":{},\"id\":\"1140\",\"type\":\"BasicTickFormatter\"},{\"attributes\":{},\"id\":\"1142\",\"type\":\"BasicTickFormatter\"},{\"attributes\":{},\"id\":\"1114\",\"type\":\"HelpTool\"},{\"attributes\":{\"axis\":{\"id\":\"1105\"},\"dimension\":1,\"ticker\":null},\"id\":\"1108\",\"type\":\"Grid\"},{\"attributes\":{\"overlay\":{\"id\":\"1115\"}},\"id\":\"1111\",\"type\":\"BoxZoomTool\"},{\"attributes\":{},\"id\":\"1143\",\"type\":\"Selection\"},{\"attributes\":{\"bottom_units\":\"screen\",\"fill_alpha\":0.5,\"fill_color\":\"lightgrey\",\"left_units\":\"screen\",\"level\":\"overlay\",\"line_alpha\":1.0,\"line_color\":\"black\",\"line_dash\":[4,4],\"line_width\":2,\"right_units\":\"screen\",\"top_units\":\"screen\"},\"id\":\"1115\",\"type\":\"BoxAnnotation\"},{\"attributes\":{\"data_source\":{\"id\":\"1123\"},\"glyph\":{\"id\":\"1124\"},\"hover_glyph\":null,\"muted_glyph\":null,\"nonselection_glyph\":{\"id\":\"1125\"},\"selection_glyph\":null,\"view\":{\"id\":\"1127\"}},\"id\":\"1126\",\"type\":\"GlyphRenderer\"},{\"attributes\":{\"bottom\":{\"value\":0},\"fill_alpha\":{\"value\":0.1},\"fill_color\":{\"value\":\"#1f77b4\"},\"left\":{\"field\":\"left\"},\"line_alpha\":{\"value\":0.1},\"line_color\":{\"value\":\"white\"},\"right\":{\"field\":\"right\"},\"top\":{\"field\":\"top\"}},\"id\":\"1125\",\"type\":\"Quad\"},{\"attributes\":{},\"id\":\"1144\",\"type\":\"UnionRenderers\"},{\"attributes\":{\"source\":{\"id\":\"1123\"}},\"id\":\"1127\",\"type\":\"CDSView\"},{\"attributes\":{},\"id\":\"1110\",\"type\":\"WheelZoomTool\"},{\"attributes\":{},\"id\":\"1109\",\"type\":\"PanTool\"},{\"attributes\":{\"active_drag\":\"auto\",\"active_inspect\":\"auto\",\"active_multi\":null,\"active_scroll\":\"auto\",\"active_tap\":\"auto\",\"tools\":[{\"id\":\"1109\"},{\"id\":\"1110\"},{\"id\":\"1111\"},{\"id\":\"1112\"},{\"id\":\"1113\"},{\"id\":\"1114\"}]},\"id\":\"1116\",\"type\":\"Toolbar\"},{\"attributes\":{},\"id\":\"1093\",\"type\":\"DataRange1d\"},{\"attributes\":{},\"id\":\"1112\",\"type\":\"SaveTool\"},{\"attributes\":{\"data\":{\"left\":{\"__ndarray__\":\"ij9zwajjAcAmDcUdaRT4v3I2R3EBw+i/gClFcArTpb9EkT4joAjmP5C6wHY4t/Y/PhbxbRA1AUA2z4GghA4HQCyIEtP45wxAkaDRgrZgEUA=\",\"dtype\":\"float64\",\"order\":\"little\",\"shape\":[10]},\"right\":{\"__ndarray__\":\"Jg3FHWkU+L9yNkdxAcPov4ApRXAK06W/RJE+I6AI5j+QusB2OLf2Pz4W8W0QNQFANs+BoIQOB0AsiBLT+OcMQJGg0YK2YBFADf0ZnHBNFEA=\",\"dtype\":\"float64\",\"order\":\"little\",\"shape\":[10]},\"top\":[12,77,213,135,48,22,7,4,1,6]},\"selected\":{\"id\":\"1143\"},\"selection_policy\":{\"id\":\"1144\"}},\"id\":\"1123\",\"type\":\"ColumnDataSource\"},{\"attributes\":{\"formatter\":{\"id\":\"1140\"},\"ticker\":{\"id\":\"1102\"}},\"id\":\"1101\",\"type\":\"LinearAxis\"},{\"attributes\":{},\"id\":\"1097\",\"type\":\"LinearScale\"},{\"attributes\":{},\"id\":\"1113\",\"type\":\"ResetTool\"},{\"attributes\":{\"formatter\":{\"id\":\"1142\"},\"ticker\":{\"id\":\"1106\"}},\"id\":\"1105\",\"type\":\"LinearAxis\"},{\"attributes\":{\"text\":\"\"},\"id\":\"1137\",\"type\":\"Title\"},{\"attributes\":{},\"id\":\"1095\",\"type\":\"DataRange1d\"},{\"attributes\":{},\"id\":\"1099\",\"type\":\"LinearScale\"},{\"attributes\":{\"bottom\":{\"value\":0},\"fill_color\":{\"value\":\"#1f77b4\"},\"left\":{\"field\":\"left\"},\"line_color\":{\"value\":\"white\"},\"right\":{\"field\":\"right\"},\"top\":{\"field\":\"top\"}},\"id\":\"1124\",\"type\":\"Quad\"},{\"attributes\":{},\"id\":\"1102\",\"type\":\"BasicTicker\"},{\"attributes\":{},\"id\":\"1106\",\"type\":\"BasicTicker\"},{\"attributes\":{\"axis\":{\"id\":\"1101\"},\"ticker\":null},\"id\":\"1104\",\"type\":\"Grid\"}],\"root_ids\":[\"1092\"]},\"title\":\"Bokeh Application\",\"version\":\"2.2.3\"}};\n",
       "  var render_items = [{\"docid\":\"157dfb3a-f79e-4cd4-bc9a-55310aa318bc\",\"root_ids\":[\"1092\"],\"roots\":{\"1092\":\"9bd16758-33d1-4caf-9f61-0d88811cfc5b\"}}];\n",
       "  root.Bokeh.embed.embed_items_notebook(docs_json, render_items);\n",
       "\n",
       "  }\n",
       "  if (root.Bokeh !== undefined) {\n",
       "    embed_document(root);\n",
       "  } else {\n",
       "    var attempts = 0;\n",
       "    var timer = setInterval(function(root) {\n",
       "      if (root.Bokeh !== undefined) {\n",
       "        clearInterval(timer);\n",
       "        embed_document(root);\n",
       "      } else {\n",
       "        attempts++;\n",
       "        if (attempts > 100) {\n",
       "          clearInterval(timer);\n",
       "          console.log(\"Bokeh: ERROR: Unable to run BokehJS code because BokehJS library is missing\");\n",
       "        }\n",
       "      }\n",
       "    }, 10, root)\n",
       "  }\n",
       "})(window);"
      ],
      "application/vnd.bokehjs_exec.v0+json": ""
     },
     "metadata": {
      "application/vnd.bokehjs_exec.v0+json": {
       "id": "1092"
      }
     },
     "output_type": "display_data"
    }
   ],
   "source": [
    "#plotting histogram with 10 bins\n",
    "hist, edges = np.histogram(st_resids, bins=10)\n",
    "res_hist = figure(height=400, width=400)\n",
    "res_hist.quad(top=hist, bottom=0, left=edges[:-1], right=edges[1:], line_color=\"white\")\n",
    "show(res_hist)"
   ]
  },
  {
   "cell_type": "markdown",
   "metadata": {},
   "source": [
    "The assumption holds if the histogram looks to be regularly distributed.\n",
    "From the scatterplot and histogram we conclude that the residual is randomly distributed but the normality of distribution of residual does not hold for this model and the zero mean residual is valid. From Jarque-Bera test on residuals, we confirm that the error are not normally distributed.Also the p-value(1.37e-192) is less than 0.05 so we reject the null hypothesis of normal distribution.\n",
    "Since the assumption of normal distribution is violated, it is not an adequate model.\n",
    "The removal of insignificant variables did not improve the model."
   ]
  },
  {
   "cell_type": "code",
   "execution_count": 35,
   "metadata": {},
   "outputs": [
    {
     "data": {
      "application/javascript": [
       "var nb = IPython.notebook;\n",
       "var kernel = IPython.notebook.kernel;\n",
       "var command = \"NOTEBOOK_FULL_PATH = '\" + nb.notebook_path + \"'\";\n",
       "kernel.execute(command);\n"
      ],
      "text/plain": [
       "<IPython.core.display.Javascript object>"
      ]
     },
     "metadata": {},
     "output_type": "display_data"
    }
   ],
   "source": [
    "%%javascript\n",
    "var nb = IPython.notebook;\n",
    "var kernel = IPython.notebook.kernel;\n",
    "var command = \"NOTEBOOK_FULL_PATH = '\" + nb.notebook_path + \"'\";\n",
    "kernel.execute(command);"
   ]
  },
  {
   "cell_type": "code",
   "execution_count": 36,
   "metadata": {},
   "outputs": [
    {
     "name": "stdout",
     "output_type": "stream",
     "text": [
      "Word count: 813\n"
     ]
    }
   ],
   "source": [
    "import io\n",
    "from nbformat import read, NO_CONVERT\n",
    "\n",
    "with io.open(NOTEBOOK_FULL_PATH.split(\"/\")[-1], 'r', encoding='utf-8') as f:\n",
    "    nb = read(f, NO_CONVERT)\n",
    "\n",
    "word_count = 0\n",
    "for cell in nb.cells:\n",
    "    if cell.cell_type == \"markdown\":\n",
    "        word_count += len(cell['source'].replace('#', '').lstrip().split(' '))\n",
    "print(f\"Word count: {word_count}\")"
   ]
  }
 ],
 "metadata": {
  "kernelspec": {
   "display_name": "Python 3 (ipykernel)",
   "language": "python",
   "name": "python3"
  },
  "language_info": {
   "codemirror_mode": {
    "name": "ipython",
    "version": 3
   },
   "file_extension": ".py",
   "mimetype": "text/x-python",
   "name": "python",
   "nbconvert_exporter": "python",
   "pygments_lexer": "ipython3",
   "version": "3.8.5"
  }
 },
 "nbformat": 4,
 "nbformat_minor": 4
}
